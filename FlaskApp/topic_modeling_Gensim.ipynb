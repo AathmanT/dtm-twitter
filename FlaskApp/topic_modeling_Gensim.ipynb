{
 "cells": [
  {
   "cell_type": "code",
   "execution_count": 1,
   "metadata": {},
   "outputs": [],
   "source": [
    "import spacy\n",
    "spacy.load('en')\n",
    "from spacy.lang.en import English\n",
    "parser = English()\n",
    "\n",
    "def tokenize(text):\n",
    "    lda_tokens = []\n",
    "    tokens = parser(text)\n",
    "    for token in tokens:\n",
    "        if token.orth_.isspace():\n",
    "            continue\n",
    "        elif token.like_url:\n",
    "            lda_tokens.append('URL')\n",
    "        elif token.orth_.startswith('@'):\n",
    "            lda_tokens.append('SCREEN_NAME')\n",
    "        else:\n",
    "            lda_tokens.append(token.lower_)\n",
    "    return lda_tokens"
   ]
  },
  {
   "cell_type": "code",
   "execution_count": 2,
   "metadata": {},
   "outputs": [
    {
     "name": "stderr",
     "output_type": "stream",
     "text": [
      "[nltk_data] Downloading package wordnet to\n",
      "[nltk_data]     C:\\Users\\T.Aathman\\AppData\\Roaming\\nltk_data...\n",
      "[nltk_data]   Package wordnet is already up-to-date!\n"
     ]
    },
    {
     "data": {
      "text/plain": [
       "True"
      ]
     },
     "execution_count": 2,
     "metadata": {},
     "output_type": "execute_result"
    }
   ],
   "source": [
    "import nltk\n",
    "nltk.download('wordnet')"
   ]
  },
  {
   "cell_type": "code",
   "execution_count": 3,
   "metadata": {},
   "outputs": [],
   "source": [
    "from nltk.corpus import wordnet as wn\n",
    "def get_lemma(word):\n",
    "    lemma = wn.morphy(word)\n",
    "    if lemma is None:\n",
    "        return word\n",
    "    else:\n",
    "        return lemma\n",
    "    \n",
    "from nltk.stem.wordnet import WordNetLemmatizer\n",
    "def get_lemma2(word):\n",
    "    return WordNetLemmatizer().lemmatize(word)"
   ]
  },
  {
   "cell_type": "code",
   "execution_count": 4,
   "metadata": {},
   "outputs": [
    {
     "name": "stdout",
     "output_type": "stream",
     "text": [
      "dogs dog dog\n",
      "ran run ran\n",
      "discouraged discourage discouraged\n"
     ]
    }
   ],
   "source": [
    "for w in ['dogs', 'ran', 'discouraged']:\n",
    "    print(w, get_lemma(w), get_lemma2(w))"
   ]
  },
  {
   "cell_type": "code",
   "execution_count": 5,
   "metadata": {},
   "outputs": [
    {
     "name": "stderr",
     "output_type": "stream",
     "text": [
      "[nltk_data] Downloading package stopwords to\n",
      "[nltk_data]     C:\\Users\\T.Aathman\\AppData\\Roaming\\nltk_data...\n",
      "[nltk_data]   Package stopwords is already up-to-date!\n"
     ]
    }
   ],
   "source": [
    "nltk.download('stopwords')\n",
    "en_stop = set(nltk.corpus.stopwords.words('english'))"
   ]
  },
  {
   "cell_type": "code",
   "execution_count": 6,
   "metadata": {},
   "outputs": [],
   "source": [
    "def prepare_text_for_lda(text):\n",
    "    tokens = tokenize(text)\n",
    "    tokens = [token for token in tokens if len(token) > 4]\n",
    "    tokens = [token for token in tokens if token not in en_stop]\n",
    "    tokens = [get_lemma(token) for token in tokens]\n",
    "    return tokens"
   ]
  },
  {
   "cell_type": "code",
   "execution_count": 7,
   "metadata": {},
   "outputs": [
    {
     "name": "stdout",
     "output_type": "stream",
     "text": [
      "['socialsensor', 'sensing', 'generate', 'input', 'improve', 'medium', 'discovery', 'experience']\n",
      "['potter', 'wheel', 'interactive', 'cleaning', 'system']\n",
      "['towards', 'highly', 'scalable', 'effective', 'metasearch', 'engine']\n",
      "['detection', 'temperature', 'gradient', 'using', 'power', 'temperature', 'sensor']\n",
      "['personalize', 'recommendation', 'dynamic', 'content', 'using', 'predictive', 'bilinear', 'model']\n",
      "['step', 'hybrid', 'simulation', 'large', 'scale', 'network']\n",
      "['orient', 'query', 'robot', 'natural', 'language', 'query', 'system']\n",
      "['model', 'parameter', 'estimation', 'h.264/avc', 'control']\n",
      "['learning', 'classify', 'human', 'object', 'sketch']\n",
      "['efficient', 'raytracing', 'dynamic', 'metaballs']\n",
      "['cosmicai', 'generate', 'background', 'content', 'base', 'search', 'flexible', 'composition']\n",
      "['symmetry', 'aware', 'analog', 'layout', 'placement', 'design', 'handling', 'substrate', 'sharing', 'constraint']\n",
      "['energy', 'efficient', 'reconfigurable', 'viterbi', 'decoder', 'programmable', 'multiprocessor']\n",
      "['active', 'bandpass', 'filter', 'using', 'transformer', 'feedback', '0.18-&micro;m', '802.11a', 'wireless']\n",
      "['image', 'sensor', 'focal', 'plane', 'spiht', 'image', 'compression']\n",
      "['drive', 'color', 'manifold']\n",
      "['voltage', 'oscillate', 'class', 'electronic', 'ballast', 'fluorescent', 'lamp']\n",
      "['toward', 'design', 'methodology', 'software', 'engineering', 'approach']\n",
      "['cacheportal', 'acceleration', 'large', 'scale', 'center', 'host', 'database', 'drive', 'application']\n",
      "['automatically', 'generate', 'label', 'base', 'unify', 'click', 'model']\n",
      "['preserve', 'healing', 'keeping', 'network', 'backbone', 'densely', 'connect']\n",
      "['automate', 'algorithm', 'generate', 'stream', 'program']\n",
      "['information', 'processing', 'generalize', 'management', 'system']\n",
      "['grow', 'cultivation', 'henry', 'garden']\n"
     ]
    }
   ],
   "source": [
    "import random\n",
    "text_data = []\n",
    "with open('dataset.csv') as f:\n",
    "    for line in f:\n",
    "        tokens = prepare_text_for_lda(line)\n",
    "        if random.random() > .99:\n",
    "            print(tokens)\n",
    "            text_data.append(tokens)"
   ]
  },
  {
   "cell_type": "code",
   "execution_count": 8,
   "metadata": {},
   "outputs": [],
   "source": [
    "from gensim import corpora\n",
    "dictionary = corpora.Dictionary(text_data)"
   ]
  },
  {
   "cell_type": "code",
   "execution_count": 9,
   "metadata": {},
   "outputs": [],
   "source": [
    "corpus = [dictionary.doc2bow(text) for text in text_data]"
   ]
  },
  {
   "cell_type": "code",
   "execution_count": 10,
   "metadata": {},
   "outputs": [],
   "source": [
    "import pickle\n",
    "pickle.dump(corpus, open('corpus.pkl', 'wb'))\n",
    "dictionary.save('dictionary.gensim')"
   ]
  },
  {
   "cell_type": "markdown",
   "metadata": {},
   "source": [
    "### Try 5 topics"
   ]
  },
  {
   "cell_type": "code",
   "execution_count": 11,
   "metadata": {},
   "outputs": [],
   "source": [
    "import gensim\n",
    "NUM_TOPICS = 5\n",
    "ldamodel = gensim.models.ldamodel.LdaModel(corpus, num_topics = NUM_TOPICS, id2word=dictionary, passes=15)\n",
    "ldamodel.save('model5.gensim')"
   ]
  },
  {
   "cell_type": "code",
   "execution_count": 12,
   "metadata": {},
   "outputs": [
    {
     "name": "stdout",
     "output_type": "stream",
     "text": [
      "(0, '0.038*\"query\" + 0.020*\"drive\" + 0.020*\"scale\" + 0.020*\"large\"')\n",
      "(1, '0.034*\"generate\" + 0.034*\"model\" + 0.034*\"content\" + 0.019*\"dynamic\"')\n",
      "(2, '0.033*\"image\" + 0.033*\"efficient\" + 0.018*\"substrate\" + 0.018*\"sharing\"')\n",
      "(3, '0.041*\"temperature\" + 0.022*\"sensor\" + 0.022*\"using\" + 0.022*\"fluorescent\"')\n",
      "(4, '0.027*\"system\" + 0.027*\"base\" + 0.027*\"generate\" + 0.027*\"design\"')\n"
     ]
    }
   ],
   "source": [
    "topics = ldamodel.print_topics(num_words=4)\n",
    "for topic in topics:\n",
    "    print(topic)"
   ]
  },
  {
   "cell_type": "code",
   "execution_count": 13,
   "metadata": {},
   "outputs": [
    {
     "name": "stdout",
     "output_type": "stream",
     "text": [
      "[(49, 1), (121, 1)]\n",
      "[(0, 0.06669849), (1, 0.39907223), (2, 0.06669479), (3, 0.40082628), (4, 0.06670825)]\n"
     ]
    }
   ],
   "source": [
    "new_doc = 'Practical Bayesian Optimization of Machine Learning Algorithms'\n",
    "new_doc = prepare_text_for_lda(new_doc)\n",
    "new_doc_bow = dictionary.doc2bow(new_doc)\n",
    "print(new_doc_bow)\n",
    "print(ldamodel.get_document_topics(new_doc_bow))"
   ]
  },
  {
   "cell_type": "code",
   "execution_count": 14,
   "metadata": {},
   "outputs": [
    {
     "name": "stdout",
     "output_type": "stream",
     "text": [
      "(0, '0.027*\"efficient\" + 0.016*\"design\" + 0.016*\"network\" + 0.016*\"base\"')\n",
      "(1, '0.023*\"system\" + 0.023*\"query\" + 0.023*\"drive\" + 0.013*\"large\"')\n",
      "(2, '0.033*\"model\" + 0.023*\"generate\" + 0.023*\"using\" + 0.023*\"temperature\"')\n"
     ]
    }
   ],
   "source": [
    "ldamodel = gensim.models.ldamodel.LdaModel(corpus, num_topics = 3, id2word=dictionary, passes=15)\n",
    "ldamodel.save('model3.gensim')\n",
    "topics = ldamodel.print_topics(num_words=4)\n",
    "for topic in topics:\n",
    "    print(topic)"
   ]
  },
  {
   "cell_type": "code",
   "execution_count": 15,
   "metadata": {},
   "outputs": [
    {
     "name": "stdout",
     "output_type": "stream",
     "text": [
      "(0, '0.043*\"efficient\" + 0.043*\"energy\" + 0.043*\"programmable\" + 0.043*\"decoder\"')\n",
      "(1, '0.039*\"sensing\" + 0.039*\"improve\" + 0.039*\"medium\" + 0.039*\"socialsensor\"')\n",
      "(2, '0.064*\"garden\" + 0.064*\"cultivation\" + 0.064*\"henry\" + 0.064*\"grow\"')\n",
      "(3, '0.044*\"design\" + 0.044*\"system\" + 0.044*\"query\" + 0.023*\"aware\"')\n",
      "(4, '0.072*\"image\" + 0.038*\"using\" + 0.038*\"0.18-&micro;m\" + 0.038*\"transformer\"')\n",
      "(5, '0.060*\"learning\" + 0.060*\"object\" + 0.060*\"classify\" + 0.060*\"sketch\"')\n",
      "(6, '0.060*\"control\" + 0.060*\"parameter\" + 0.060*\"estimation\" + 0.060*\"h.264/avc\"')\n",
      "(7, '0.026*\"scale\" + 0.026*\"large\" + 0.026*\"drive\" + 0.026*\"network\"')\n",
      "(8, '0.083*\"temperature\" + 0.043*\"using\" + 0.043*\"sensor\" + 0.043*\"gradient\"')\n",
      "(9, '0.058*\"generate\" + 0.058*\"model\" + 0.058*\"content\" + 0.058*\"base\"')\n"
     ]
    }
   ],
   "source": [
    "ldamodel = gensim.models.ldamodel.LdaModel(corpus, num_topics = 10, id2word=dictionary, passes=15)\n",
    "ldamodel.save('model10.gensim')\n",
    "topics = ldamodel.print_topics(num_words=4)\n",
    "for topic in topics:\n",
    "    print(topic)"
   ]
  },
  {
   "cell_type": "markdown",
   "metadata": {},
   "source": [
    "### pyLDAvis"
   ]
  },
  {
   "cell_type": "code",
   "execution_count": 16,
   "metadata": {},
   "outputs": [],
   "source": [
    "dictionary = gensim.corpora.Dictionary.load('dictionary.gensim')\n",
    "corpus = pickle.load(open('corpus.pkl', 'rb'))\n",
    "lda = gensim.models.ldamodel.LdaModel.load('model5.gensim')"
   ]
  },
  {
   "cell_type": "code",
   "execution_count": 17,
   "metadata": {},
   "outputs": [
    {
     "name": "stderr",
     "output_type": "stream",
     "text": [
      "c:\\program files\\python37\\lib\\site-packages\\pyLDAvis\\_prepare.py:257: FutureWarning: Sorting because non-concatenation axis is not aligned. A future version\n",
      "of pandas will change to not sort by default.\n",
      "\n",
      "To accept the future behavior, pass 'sort=False'.\n",
      "\n",
      "To retain the current behavior and silence the warning, pass 'sort=True'.\n",
      "\n",
      "  return pd.concat([default_term_info] + list(topic_dfs))\n"
     ]
    },
    {
     "data": {
      "text/html": [
       "\n",
       "<link rel=\"stylesheet\" type=\"text/css\" href=\"https://cdn.rawgit.com/bmabey/pyLDAvis/files/ldavis.v1.0.0.css\">\n",
       "\n",
       "\n",
       "<div id=\"ldavis_el1702022152498350166996164854\"></div>\n",
       "<script type=\"text/javascript\">\n",
       "\n",
       "var ldavis_el1702022152498350166996164854_data = {\"mdsDat\": {\"x\": [-0.07864306364708754, -0.04756620709661517, 0.1388513634798879, -0.018657131045346283, 0.006015038309160869], \"y\": [-0.049744665854921315, 0.11575288455394415, -0.0010693842543661233, -0.08645157075098063, 0.02151273630632378], \"topics\": [1, 2, 3, 4, 5], \"cluster\": [1, 1, 1, 1, 1], \"Freq\": [21.0128173828125, 23.84425926208496, 25.139976501464844, 17.387359619140625, 12.615582466125488]}, \"tinfo\": {\"Category\": [\"Default\", \"Default\", \"Default\", \"Default\", \"Default\", \"Default\", \"Default\", \"Default\", \"Default\", \"Default\", \"Default\", \"Default\", \"Default\", \"Default\", \"Default\", \"Default\", \"Default\", \"Default\", \"Default\", \"Default\", \"Default\", \"Default\", \"Default\", \"Default\", \"Default\", \"Default\", \"Default\", \"Default\", \"Default\", \"Default\", \"Topic1\", \"Topic1\", \"Topic1\", \"Topic1\", \"Topic1\", \"Topic1\", \"Topic1\", \"Topic1\", \"Topic1\", \"Topic1\", \"Topic1\", \"Topic1\", \"Topic1\", \"Topic1\", \"Topic1\", \"Topic1\", \"Topic1\", \"Topic1\", \"Topic1\", \"Topic1\", \"Topic1\", \"Topic1\", \"Topic1\", \"Topic1\", \"Topic1\", \"Topic1\", \"Topic1\", \"Topic1\", \"Topic1\", \"Topic1\", \"Topic1\", \"Topic2\", \"Topic2\", \"Topic2\", \"Topic2\", \"Topic2\", \"Topic2\", \"Topic2\", \"Topic2\", \"Topic2\", \"Topic2\", \"Topic2\", \"Topic2\", \"Topic2\", \"Topic2\", \"Topic2\", \"Topic2\", \"Topic2\", \"Topic2\", \"Topic2\", \"Topic2\", \"Topic2\", \"Topic2\", \"Topic2\", \"Topic2\", \"Topic2\", \"Topic2\", \"Topic2\", \"Topic2\", \"Topic2\", \"Topic2\", \"Topic2\", \"Topic3\", \"Topic3\", \"Topic3\", \"Topic3\", \"Topic3\", \"Topic3\", \"Topic3\", \"Topic3\", \"Topic3\", \"Topic3\", \"Topic3\", \"Topic3\", \"Topic3\", \"Topic3\", \"Topic3\", \"Topic3\", \"Topic3\", \"Topic3\", \"Topic3\", \"Topic3\", \"Topic3\", \"Topic3\", \"Topic3\", \"Topic3\", \"Topic3\", \"Topic3\", \"Topic3\", \"Topic3\", \"Topic3\", \"Topic3\", \"Topic4\", \"Topic4\", \"Topic4\", \"Topic4\", \"Topic4\", \"Topic4\", \"Topic4\", \"Topic4\", \"Topic4\", \"Topic4\", \"Topic4\", \"Topic4\", \"Topic4\", \"Topic4\", \"Topic4\", \"Topic4\", \"Topic4\", \"Topic4\", \"Topic4\", \"Topic4\", \"Topic4\", \"Topic4\", \"Topic4\", \"Topic4\", \"Topic4\", \"Topic4\", \"Topic4\", \"Topic4\", \"Topic4\", \"Topic4\", \"Topic4\", \"Topic4\", \"Topic4\", \"Topic4\", \"Topic5\", \"Topic5\", \"Topic5\", \"Topic5\", \"Topic5\", \"Topic5\", \"Topic5\", \"Topic5\", \"Topic5\", \"Topic5\", \"Topic5\", \"Topic5\", \"Topic5\", \"Topic5\", \"Topic5\", \"Topic5\", \"Topic5\", \"Topic5\", \"Topic5\", \"Topic5\", \"Topic5\", \"Topic5\", \"Topic5\", \"Topic5\", \"Topic5\", \"Topic5\", \"Topic5\", \"Topic5\", \"Topic5\", \"Topic5\", \"Topic5\", \"Topic5\", \"Topic5\", \"Topic5\", \"Topic5\", \"Topic5\", \"Topic5\", \"Topic5\", \"Topic5\", \"Topic5\", \"Topic5\"], \"Freq\": [1.0, 2.0, 1.0, 2.0, 2.0, 1.0, 1.0, 1.0, 0.0, 0.0, 0.0, 0.0, 0.0, 0.0, 0.0, 0.0, 0.0, 0.0, 0.0, 0.0, 0.0, 1.0, 1.0, 1.0, 1.0, 1.0, 1.0, 1.0, 1.0, 1.0, 1.2226800918579102, 0.6669130325317383, 0.6669130325317383, 0.6669130325317383, 0.6669127941131592, 0.6669126749038696, 0.6669126152992249, 0.6669126749038696, 0.6669126152992249, 0.6669126152992249, 0.6669126152992249, 0.6669123768806458, 0.6669123768806458, 0.6669121980667114, 0.6669114232063293, 0.6669097542762756, 0.6669096350669861, 0.6669096350669861, 0.666909396648407, 0.6669093370437622, 0.6669091582298279, 0.6669088006019592, 0.6669087409973145, 0.6669086217880249, 0.6669067144393921, 0.6675487756729126, 0.6672057509422302, 0.6672056317329407, 0.6671177744865417, 0.6669059991836548, 0.6670624017715454, 1.2586498260498047, 0.6865269541740417, 0.6865270137786865, 0.686526894569397, 0.686526894569397, 0.686526894569397, 0.6865267157554626, 0.6865268349647522, 0.6865265965461731, 0.6865255236625671, 0.6865217089653015, 0.6865217089653015, 0.6865216493606567, 0.6865214705467224, 0.6865211725234985, 0.6865207552909851, 0.6865206956863403, 0.6865202784538269, 0.6865198016166687, 0.6865174770355225, 0.6865171790122986, 0.6865167617797852, 0.6865167617797852, 0.6865166425704956, 0.6865165829658508, 0.686516284942627, 0.6865159273147583, 1.258757472038269, 1.2592591047286987, 0.6862853765487671, 0.6869954466819763, 1.2872415781021118, 1.2872354984283447, 0.7021277546882629, 0.7021275162696838, 0.7021274566650391, 0.7021273970603943, 0.7021274566650391, 0.7021273374557495, 0.70212721824646, 0.7021270394325256, 0.7021265625953674, 0.7021244168281555, 0.7021242380142212, 0.7021241784095764, 0.7021238207817078, 0.702123761177063, 0.7021228671073914, 0.7021230459213257, 0.702122151851654, 0.7021214962005615, 0.7021216750144958, 0.7021215558052063, 0.7021214962005615, 0.7021214365959167, 0.7021212577819824, 0.7021211981773376, 0.7021210193634033, 0.7021205425262451, 0.7021073698997498, 0.7021068334579468, 1.1061862707138062, 0.6033669710159302, 0.6033667922019958, 0.6033666729927063, 0.603366494178772, 0.6033663153648376, 0.6033658981323242, 0.6033657789230347, 0.6033654808998108, 0.6033653616905212, 0.6033651828765869, 0.6033616662025452, 0.6033614277839661, 0.603361189365387, 0.6033610105514526, 0.6033608317375183, 0.6033607125282288, 0.6033600568771362, 0.6033599376678467, 0.6033595204353333, 0.6033462882041931, 0.6033461689949036, 0.6027798056602478, 0.6035439372062683, 0.60307377576828, 0.6034329533576965, 0.10056832432746887, 0.10056819021701813, 0.10056796669960022, 0.10056795924901962, 0.10057594627141953, 0.10057450830936432, 0.10057158768177032, 0.10057158768177032, 0.5260847806930542, 0.5260847806930542, 0.5260846018791199, 0.5260844230651855, 0.5260837078094482, 0.5260831713676453, 0.5260829329490662, 0.5260829329490662, 0.5260828137397766, 0.5260815024375916, 0.5260811448097229, 0.5260810256004333, 0.5260806679725647, 0.5262745022773743, 0.5261715650558472, 0.5263551473617554, 0.5260056257247925, 0.5262330174446106, 0.08769141882658005, 0.08769126236438751, 0.08768811076879501, 0.08768799901008606, 0.08768798410892487, 0.08768779039382935, 0.08768777549266815, 0.08768774569034576, 0.08768773078918457, 0.08768761903047562, 0.08768750727176666, 0.08768647164106369, 0.0876864567399025, 0.08769447356462479, 0.08769369125366211, 0.0876927524805069, 0.08769085258245468, 0.08769078552722931, 0.08769050985574722, 0.08769018203020096, 0.08769010007381439, 0.0876900851726532, 0.08768996596336365], \"Term\": [\"temperature\", \"model\", \"query\", \"system\", \"generate\", \"content\", \"base\", \"design\", \"label\", \"click\", \"unify\", \"automatically\", \"software\", \"toward\", \"methodology\", \"approach\", \"engineering\", \"generalize\", \"management\", \"processing\", \"information\", \"image\", \"efficient\", \"drive\", \"fluorescent\", \"voltage\", \"class\", \"detection\", \"lamp\", \"oscillate\", \"query\", \"active\", \"center\", \"feedback\", \"acceleration\", \"0.18-&micro;m\", \"802.11a\", \"database\", \"host\", \"bandpass\", \"filter\", \"transformer\", \"wireless\", \"application\", \"cacheportal\", \"backbone\", \"keeping\", \"robot\", \"densely\", \"preserve\", \"natural\", \"orient\", \"language\", \"connect\", \"healing\", \"drive\", \"scale\", \"large\", \"network\", \"system\", \"using\", \"content\", \"background\", \"flexible\", \"cosmicai\", \"search\", \"predictive\", \"composition\", \"bilinear\", \"personalize\", \"recommendation\", \"towards\", \"highly\", \"effective\", \"hybrid\", \"scalable\", \"step\", \"metasearch\", \"engine\", \"simulation\", \"algorithm\", \"stream\", \"program\", \"control\", \"estimation\", \"automate\", \"parameter\", \"h.264/avc\", \"model\", \"generate\", \"base\", \"dynamic\", \"image\", \"efficient\", \"substrate\", \"sharing\", \"handling\", \"constraint\", \"placement\", \"layout\", \"aware\", \"symmetry\", \"analog\", \"input\", \"medium\", \"improve\", \"socialsensor\", \"sensing\", \"decoder\", \"discovery\", \"plane\", \"compression\", \"spiht\", \"focal\", \"viterbi\", \"experience\", \"programmable\", \"multiprocessor\", \"energy\", \"reconfigurable\", \"henry\", \"metaballs\", \"temperature\", \"fluorescent\", \"voltage\", \"class\", \"detection\", \"lamp\", \"oscillate\", \"ballast\", \"electronic\", \"gradient\", \"power\", \"potter\", \"human\", \"interactive\", \"classify\", \"sketch\", \"object\", \"cleaning\", \"wheel\", \"learning\", \"color\", \"manifold\", \"drive\", \"sensor\", \"system\", \"using\", \"processing\", \"information\", \"generalize\", \"management\", \"generate\", \"dynamic\", \"network\", \"garden\", \"click\", \"label\", \"unify\", \"automatically\", \"software\", \"toward\", \"approach\", \"methodology\", \"engineering\", \"generalize\", \"management\", \"processing\", \"information\", \"base\", \"design\", \"system\", \"model\", \"generate\", \"manifold\", \"color\", \"cleaning\", \"wheel\", \"learning\", \"object\", \"classify\", \"interactive\", \"sketch\", \"potter\", \"human\", \"gradient\", \"electronic\", \"drive\", \"dynamic\", \"using\", \"network\", \"garden\", \"large\", \"grow\", \"cultivation\", \"scale\", \"sensor\"], \"Total\": [1.0, 2.0, 1.0, 2.0, 2.0, 1.0, 1.0, 1.0, 0.0, 0.0, 0.0, 0.0, 0.0, 0.0, 0.0, 0.0, 0.0, 0.0, 0.0, 0.0, 0.0, 1.0, 1.0, 1.0, 1.0, 1.0, 1.0, 1.0, 1.0, 1.0, 1.6423944234848022, 1.08661949634552, 1.08661949634552, 1.08661949634552, 1.08661949634552, 1.0866193771362305, 1.08661949634552, 1.08661949634552, 1.08661949634552, 1.08661949634552, 1.0866196155548096, 1.0866193771362305, 1.0866193771362305, 1.0866193771362305, 1.0866193771362305, 1.0866190195083618, 1.0866191387176514, 1.0866190195083618, 1.0866190195083618, 1.0866190195083618, 1.0866190195083618, 1.0866190195083618, 1.0866190195083618, 1.0866190195083618, 1.0866189002990723, 1.5894955396652222, 1.6587257385253906, 1.658725619316101, 1.6587278842926025, 2.027808904647827, 2.1615381240844727, 1.6750906705856323, 1.10296630859375, 1.1029664278030396, 1.10296630859375, 1.1029664278030396, 1.102966547012329, 1.10296630859375, 1.102966547012329, 1.1029664278030396, 1.1029664278030396, 1.1029657125473022, 1.1029657125473022, 1.1029658317565918, 1.1029658317565918, 1.1029657125473022, 1.1029657125473022, 1.1029655933380127, 1.1029655933380127, 1.1029655933380127, 1.1029651165008545, 1.1029651165008545, 1.1029648780822754, 1.102964997291565, 1.102964997291565, 1.102964997291565, 1.102964997291565, 1.1029648780822754, 2.1135287284851074, 2.6985557079315186, 1.5413227081298828, 1.6880663633346558, 1.7010867595672607, 1.7010856866836548, 1.1159647703170776, 1.1159648895263672, 1.1159647703170776, 1.1159647703170776, 1.1159648895263672, 1.1159648895263672, 1.1159648895263672, 1.1159647703170776, 1.115964651107788, 1.115964412689209, 1.1159642934799194, 1.115964412689209, 1.1159642934799194, 1.1159641742706299, 1.1159640550613403, 1.1159642934799194, 1.1159639358520508, 1.1159638166427612, 1.1159639358520508, 1.1159639358520508, 1.1159639358520508, 1.1159639358520508, 1.1159636974334717, 1.1159638166427612, 1.1159638166427612, 1.1159638166427612, 1.1159615516662598, 1.1159615516662598, 1.5364872217178345, 1.0336666107177734, 1.033666729927063, 1.0336666107177734, 1.033666729927063, 1.0336666107177734, 1.033666729927063, 1.033666729927063, 1.033666729927063, 1.033666729927063, 1.033666729927063, 1.033666729927063, 1.033666729927063, 1.033666729927063, 1.033666729927063, 1.033666729927063, 1.033666729927063, 1.033666729927063, 1.033666729927063, 1.0336668491363525, 1.033666968345642, 1.033666968345642, 1.5894955396652222, 1.6187514066696167, 2.027808904647827, 2.1615381240844727, 0.9692651033401489, 0.9692651629447937, 0.9692649841308594, 0.9692650437355042, 2.6985557079315186, 1.6880663633346558, 1.6587278842926025, 1.1159613132476807, 0.9692643284797668, 0.9692643284797668, 0.9692643284797668, 0.9692643880844116, 0.9692645072937012, 0.9692646265029907, 0.9692646265029907, 0.9692646265029907, 0.9692646861076355, 0.9692649841308594, 0.9692650437355042, 0.9692651033401489, 0.9692651629447937, 1.5413227081298828, 1.5543498992919922, 2.027808904647827, 2.1135287284851074, 2.6985557079315186, 1.033666968345642, 1.033666968345642, 1.033666729927063, 1.033666729927063, 1.0336668491363525, 1.033666729927063, 1.033666729927063, 1.033666729927063, 1.033666729927063, 1.033666729927063, 1.033666729927063, 1.033666729927063, 1.033666729927063, 1.5894955396652222, 1.6880663633346558, 2.1615381240844727, 1.6587278842926025, 1.1159613132476807, 1.658725619316101, 1.1159615516662598, 1.1159616708755493, 1.6587257385253906, 1.6187514066696167], \"loglift\": [30.0, 29.0, 28.0, 27.0, 26.0, 25.0, 24.0, 23.0, 22.0, 21.0, 20.0, 19.0, 18.0, 17.0, 16.0, 15.0, 14.0, 13.0, 12.0, 11.0, 10.0, 9.0, 8.0, 7.0, 6.0, 5.0, 4.0, 3.0, 2.0, 1.0, 1.2648999691009521, 1.0719000101089478, 1.0719000101089478, 1.0719000101089478, 1.0719000101089478, 1.0719000101089478, 1.0719000101089478, 1.0719000101089478, 1.0719000101089478, 1.0719000101089478, 1.0719000101089478, 1.0719000101089478, 1.0719000101089478, 1.0719000101089478, 1.0719000101089478, 1.0719000101089478, 1.0719000101089478, 1.0719000101089478, 1.0719000101089478, 1.0719000101089478, 1.0719000101089478, 1.0719000101089478, 1.0719000101089478, 1.0719000101089478, 1.0719000101089478, 0.6924999952316284, 0.6492999792098999, 0.6492999792098999, 0.6492000222206116, 0.4480000138282776, 0.38429999351501465, 1.1477999687194824, 0.9595000147819519, 0.9595000147819519, 0.9595000147819519, 0.9595000147819519, 0.9595000147819519, 0.9595000147819519, 0.9595000147819519, 0.9595000147819519, 0.9595000147819519, 0.9595000147819519, 0.9595000147819519, 0.9595000147819519, 0.9595000147819519, 0.9595000147819519, 0.9595000147819519, 0.9595000147819519, 0.9595000147819519, 0.9595000147819519, 0.9595000147819519, 0.9595000147819519, 0.9595000147819519, 0.9595000147819519, 0.9595000147819519, 0.9595000147819519, 0.9595000147819519, 0.9595000147819519, 0.9154000282287598, 0.6714000105857849, 0.6244999766349792, 0.534600019454956, 1.1018999814987183, 1.1018999814987183, 0.9174000024795532, 0.9174000024795532, 0.9174000024795532, 0.9174000024795532, 0.9174000024795532, 0.9174000024795532, 0.9174000024795532, 0.9174000024795532, 0.9174000024795532, 0.9172999858856201, 0.9172999858856201, 0.9172999858856201, 0.9172999858856201, 0.9172999858856201, 0.9172999858856201, 0.9172999858856201, 0.9172999858856201, 0.9172999858856201, 0.9172999858856201, 0.9172999858856201, 0.9172999858856201, 0.9172999858856201, 0.9172999858856201, 0.9172999858856201, 0.9172999858856201, 0.9172999858856201, 0.9172999858856201, 0.9172999858856201, 1.420799970626831, 1.2110999822616577, 1.2110999822616577, 1.2110999822616577, 1.2110999822616577, 1.2110999822616577, 1.2110999822616577, 1.2110999822616577, 1.2110999822616577, 1.2110999822616577, 1.2110999822616577, 1.2110999822616577, 1.2110999822616577, 1.2110999822616577, 1.2110999822616577, 1.2110999822616577, 1.2110999822616577, 1.2110999822616577, 1.2110999822616577, 1.2110999822616577, 1.2109999656677246, 1.2109999656677246, 0.7797999978065491, 0.7627999782562256, 0.5368000268936157, 0.47350001335144043, -0.5163000226020813, -0.5163000226020813, -0.5163000226020813, -0.5163000226020813, -1.5400999784469604, -1.0709999799728394, -1.0535000562667847, -0.6571999788284302, 1.4592000246047974, 1.4592000246047974, 1.4592000246047974, 1.4592000246047974, 1.4592000246047974, 1.4592000246047974, 1.4592000246047974, 1.4592000246047974, 1.4592000246047974, 1.4592000246047974, 1.4592000246047974, 1.4592000246047974, 1.4592000246047974, 0.9957000017166138, 0.9871000051498413, 0.7214999794960022, 0.6794000267982483, 0.43549999594688416, -0.3968000113964081, -0.3968000113964081, -0.3968000113964081, -0.3968000113964081, -0.3968000113964081, -0.3968000113964081, -0.3968000113964081, -0.3968000113964081, -0.3968000113964081, -0.3968000113964081, -0.3968999981880188, -0.3968999981880188, -0.3968999981880188, -0.8270999789237976, -0.8873000144958496, -1.1345000267028809, -0.8697999715805054, -0.4733999967575073, -0.8697999715805054, -0.4733999967575073, -0.4733999967575073, -0.8697999715805054, -0.8453999757766724], \"logprob\": [30.0, 29.0, 28.0, 27.0, 26.0, 25.0, 24.0, 23.0, 22.0, 21.0, 20.0, 19.0, 18.0, 17.0, 16.0, 15.0, 14.0, 13.0, 12.0, 11.0, 10.0, 9.0, 8.0, 7.0, 6.0, 5.0, 4.0, 3.0, 2.0, 1.0, -3.2822999954223633, -3.8884999752044678, -3.8884999752044678, -3.8884999752044678, -3.8884999752044678, -3.8884999752044678, -3.8884999752044678, -3.8884999752044678, -3.8884999752044678, -3.8884999752044678, -3.8884999752044678, -3.8884999752044678, -3.8884999752044678, -3.8884999752044678, -3.8884999752044678, -3.8884999752044678, -3.8884999752044678, -3.8884999752044678, -3.8884999752044678, -3.8884999752044678, -3.8884999752044678, -3.8884999752044678, -3.8884999752044678, -3.8884999752044678, -3.8884999752044678, -3.887500047683716, -3.888000011444092, -3.888000011444092, -3.888200044631958, -3.8884999752044678, -3.8882999420166016, -3.3798000812530518, -3.9858999252319336, -3.9858999252319336, -3.9858999252319336, -3.9858999252319336, -3.9858999252319336, -3.9858999252319336, -3.9858999252319336, -3.9858999252319336, -3.9858999252319336, -3.9858999252319336, -3.9858999252319336, -3.9858999252319336, -3.9858999252319336, -3.9858999252319336, -3.9858999252319336, -3.9858999252319336, -3.9858999252319336, -3.9858999252319336, -3.9858999252319336, -3.9858999252319336, -3.9858999252319336, -3.9858999252319336, -3.9858999252319336, -3.9858999252319336, -3.9858999252319336, -3.9858999252319336, -3.379699945449829, -3.379300117492676, -3.986299991607666, -3.9851999282836914, -3.4102001190185547, -3.4102001190185547, -4.01639986038208, -4.01639986038208, -4.01639986038208, -4.01639986038208, -4.01639986038208, -4.01639986038208, -4.01639986038208, -4.01639986038208, -4.01639986038208, -4.01639986038208, -4.01639986038208, -4.01639986038208, -4.01639986038208, -4.01639986038208, -4.01639986038208, -4.01639986038208, -4.01639986038208, -4.01639986038208, -4.01639986038208, -4.01639986038208, -4.01639986038208, -4.01639986038208, -4.01639986038208, -4.01639986038208, -4.01639986038208, -4.01639986038208, -4.01639986038208, -4.01639986038208, -3.1930999755859375, -3.7992000579833984, -3.7992000579833984, -3.7992000579833984, -3.7992000579833984, -3.7992000579833984, -3.7992000579833984, -3.7992000579833984, -3.7992000579833984, -3.7992000579833984, -3.7992000579833984, -3.7992000579833984, -3.7992000579833984, -3.7992000579833984, -3.7992000579833984, -3.7992000579833984, -3.7992000579833984, -3.7992000579833984, -3.7992000579833984, -3.7992000579833984, -3.799299955368042, -3.799299955368042, -3.8001999855041504, -3.7988998889923096, -3.7997000217437744, -3.799099922180176, -5.59089994430542, -5.59089994430542, -5.59089994430542, -5.59089994430542, -5.590799808502197, -5.59089994430542, -5.59089994430542, -5.59089994430542, -3.615499973297119, -3.615499973297119, -3.615499973297119, -3.615499973297119, -3.615499973297119, -3.615499973297119, -3.615499973297119, -3.615499973297119, -3.615499973297119, -3.615499973297119, -3.615499973297119, -3.615499973297119, -3.615499973297119, -3.6150999069213867, -3.615299940109253, -3.615000009536743, -3.615600109100342, -3.6152000427246094, -5.407100200653076, -5.407100200653076, -5.407199859619141, -5.407199859619141, -5.407199859619141, -5.407199859619141, -5.407199859619141, -5.407199859619141, -5.407199859619141, -5.407199859619141, -5.407199859619141, -5.407199859619141, -5.407199859619141, -5.407100200653076, -5.407100200653076, -5.407100200653076, -5.407100200653076, -5.407100200653076, -5.407100200653076, -5.407100200653076, -5.407100200653076, -5.407100200653076, -5.407100200653076]}, \"token.table\": {\"Topic\": [1, 1, 1, 1, 2, 3, 1, 5, 2, 5, 3, 1, 2, 4, 1, 2, 5, 2, 1, 1, 4, 4, 4, 5, 4, 2, 3, 1, 3, 2, 2, 2, 3, 1, 3, 1, 3, 5, 4, 3, 1, 4, 2, 3, 2, 3, 4, 3, 2, 5, 2, 3, 1, 1, 2, 4, 3, 3, 5, 2, 3, 5, 4, 3, 2, 3, 1, 3, 2, 1, 4, 2, 3, 3, 5, 3, 4, 1, 5, 4, 1, 1, 2, 3, 4, 5, 4, 3, 3, 2, 5, 2, 5, 3, 1, 1, 2, 4, 1, 4, 2, 2, 3, 3, 4, 4, 2, 1, 5, 2, 3, 1, 2, 3, 1, 2, 1, 2, 2, 3, 3, 4, 3, 2, 4, 3, 5, 3, 2, 2, 3, 3, 1, 4, 5, 4, 5, 2, 1, 5, 1, 2, 4, 3, 4, 4, 1], \"Freq\": [0.9202854633331299, 0.9202853441238403, 0.9202853441238403, 0.9202853441238403, 0.9066469669342041, 0.8960857391357422, 0.9202854633331299, 1.0317100286483765, 0.9066470861434937, 1.0317102670669556, 0.8960855603218079, 0.9202857613563538, 0.9066460132598877, 0.9674298167228699, 0.9202853441238403, 0.6487933993339539, 0.6487933993339539, 0.9066458344459534, 0.9202854633331299, 0.9202853441238403, 0.9674299359321594, 0.9674298167228699, 0.9674298167228699, 1.0317102670669556, 0.9674295783042908, 0.9066460132598877, 0.8960863947868347, 0.9202857613563538, 0.8960856199264526, 0.5969825983047485, 0.9066470861434937, 0.9066460132598877, 0.8960881233215332, 0.9202853441238403, 0.8960862159729004, 0.9202857613563538, 0.6433557868003845, 0.6433557868003845, 0.9674298167228699, 0.8960860371589661, 0.6291304230690002, 0.6291304230690002, 0.5923937559127808, 0.5923937559127808, 0.9066463708877563, 0.5878598690032959, 0.9674298167228699, 0.8960863947868347, 0.9066466093063354, 1.031709909439087, 0.9066470861434937, 0.8960862755775452, 0.9202853441238403, 0.9202852249145508, 0.9066458940505981, 0.9674299359321594, 0.8960862755775452, 0.8960884213447571, 1.0317095518112183, 0.3705686032772064, 0.3705686032772064, 0.3705686032772064, 0.9674298167228699, 0.8960882425308228, 0.9066472053527832, 0.8960856199264526, 0.9202858805656433, 0.8960882425308228, 0.9066464900970459, 0.9202853441238403, 0.9674298167228699, 0.9066463708877563, 0.5878595113754272, 0.8960859179496765, 1.0317094326019287, 0.8960859179496765, 0.9674298167228699, 0.9202856421470642, 1.0317102670669556, 0.9674299359321594, 0.9202857613563538, 0.6028724908828735, 0.6028724908828735, 0.8960855603218079, 0.9674296975135803, 1.0317095518112183, 0.9674295783042908, 0.8960860371589661, 0.8960882425308228, 0.9066466093063354, 1.0317100286483765, 0.4731423854827881, 0.4731423854827881, 0.8960863947868347, 0.9202857613563538, 0.6028716564178467, 0.6028716564178467, 0.9674298167228699, 0.9202857613563538, 0.9674298167228699, 0.9066470861434937, 0.9066458940505981, 0.8960855603218079, 0.8960862755775452, 0.9674298167228699, 0.9674298167228699, 0.9066458344459534, 0.9202857613563538, 1.0317094326019287, 0.9066472053527832, 0.8960865139961243, 0.6088671684265137, 0.9066458940505981, 0.8960863947868347, 0.9202857613563538, 0.9066464900970459, 0.6028724312782288, 0.6028724312782288, 0.9066458940505981, 0.8960860967636108, 0.6177600622177124, 0.6177600622177124, 0.8960855603218079, 0.9066466093063354, 0.9674298167228699, 0.8960860371589661, 1.031710147857666, 0.8960862755775452, 0.9066464900970459, 0.9066469669342041, 0.8960856199264526, 0.8960856199264526, 0.49314311146736145, 0.49314311146736145, 0.49314311146736145, 0.6508352160453796, 1.0317100286483765, 0.9066464900970459, 0.9202854633331299, 1.0317102670669556, 0.46263352036476135, 0.46263352036476135, 0.46263352036476135, 0.8960862755775452, 0.9674298167228699, 0.9674298167228699, 0.9202854633331299], \"Term\": [\"0.18-&micro;m\", \"802.11a\", \"acceleration\", \"active\", \"algorithm\", \"analog\", \"application\", \"approach\", \"automate\", \"automatically\", \"aware\", \"backbone\", \"background\", \"ballast\", \"bandpass\", \"base\", \"base\", \"bilinear\", \"cacheportal\", \"center\", \"class\", \"classify\", \"cleaning\", \"click\", \"color\", \"composition\", \"compression\", \"connect\", \"constraint\", \"content\", \"control\", \"cosmicai\", \"cultivation\", \"database\", \"decoder\", \"densely\", \"design\", \"design\", \"detection\", \"discovery\", \"drive\", \"drive\", \"dynamic\", \"dynamic\", \"effective\", \"efficient\", \"electronic\", \"energy\", \"engine\", \"engineering\", \"estimation\", \"experience\", \"feedback\", \"filter\", \"flexible\", \"fluorescent\", \"focal\", \"garden\", \"generalize\", \"generate\", \"generate\", \"generate\", \"gradient\", \"grow\", \"h.264/avc\", \"handling\", \"healing\", \"henry\", \"highly\", \"host\", \"human\", \"hybrid\", \"image\", \"improve\", \"information\", \"input\", \"interactive\", \"keeping\", \"label\", \"lamp\", \"language\", \"large\", \"large\", \"layout\", \"learning\", \"management\", \"manifold\", \"medium\", \"metaballs\", \"metasearch\", \"methodology\", \"model\", \"model\", \"multiprocessor\", \"natural\", \"network\", \"network\", \"object\", \"orient\", \"oscillate\", \"parameter\", \"personalize\", \"placement\", \"plane\", \"potter\", \"power\", \"predictive\", \"preserve\", \"processing\", \"program\", \"programmable\", \"query\", \"recommendation\", \"reconfigurable\", \"robot\", \"scalable\", \"scale\", \"scale\", \"search\", \"sensing\", \"sensor\", \"sensor\", \"sharing\", \"simulation\", \"sketch\", \"socialsensor\", \"software\", \"spiht\", \"step\", \"stream\", \"substrate\", \"symmetry\", \"system\", \"system\", \"system\", \"temperature\", \"toward\", \"towards\", \"transformer\", \"unify\", \"using\", \"using\", \"using\", \"viterbi\", \"voltage\", \"wheel\", \"wireless\"]}, \"R\": 30, \"lambda.step\": 0.01, \"plot.opts\": {\"xlab\": \"PC1\", \"ylab\": \"PC2\"}, \"topic.order\": [1, 2, 3, 4, 5]};\n",
       "\n",
       "function LDAvis_load_lib(url, callback){\n",
       "  var s = document.createElement('script');\n",
       "  s.src = url;\n",
       "  s.async = true;\n",
       "  s.onreadystatechange = s.onload = callback;\n",
       "  s.onerror = function(){console.warn(\"failed to load library \" + url);};\n",
       "  document.getElementsByTagName(\"head\")[0].appendChild(s);\n",
       "}\n",
       "\n",
       "if(typeof(LDAvis) !== \"undefined\"){\n",
       "   // already loaded: just create the visualization\n",
       "   !function(LDAvis){\n",
       "       new LDAvis(\"#\" + \"ldavis_el1702022152498350166996164854\", ldavis_el1702022152498350166996164854_data);\n",
       "   }(LDAvis);\n",
       "}else if(typeof define === \"function\" && define.amd){\n",
       "   // require.js is available: use it to load d3/LDAvis\n",
       "   require.config({paths: {d3: \"https://cdnjs.cloudflare.com/ajax/libs/d3/3.5.5/d3.min\"}});\n",
       "   require([\"d3\"], function(d3){\n",
       "      window.d3 = d3;\n",
       "      LDAvis_load_lib(\"https://cdn.rawgit.com/bmabey/pyLDAvis/files/ldavis.v1.0.0.js\", function(){\n",
       "        new LDAvis(\"#\" + \"ldavis_el1702022152498350166996164854\", ldavis_el1702022152498350166996164854_data);\n",
       "      });\n",
       "    });\n",
       "}else{\n",
       "    // require.js not available: dynamically load d3 & LDAvis\n",
       "    LDAvis_load_lib(\"https://cdnjs.cloudflare.com/ajax/libs/d3/3.5.5/d3.min.js\", function(){\n",
       "         LDAvis_load_lib(\"https://cdn.rawgit.com/bmabey/pyLDAvis/files/ldavis.v1.0.0.js\", function(){\n",
       "                 new LDAvis(\"#\" + \"ldavis_el1702022152498350166996164854\", ldavis_el1702022152498350166996164854_data);\n",
       "            })\n",
       "         });\n",
       "}\n",
       "</script>"
      ],
      "text/plain": [
       "<IPython.core.display.HTML object>"
      ]
     },
     "execution_count": 17,
     "metadata": {},
     "output_type": "execute_result"
    }
   ],
   "source": [
    "import pyLDAvis.gensim\n",
    "lda_display = pyLDAvis.gensim.prepare(lda, corpus, dictionary,sort_topics=False)\n",
    "pyLDAvis.save_html(lda_display, 'lda.html')\n",
    "pyLDAvis.display(lda_display)"
   ]
  },
  {
   "cell_type": "code",
   "execution_count": 18,
   "metadata": {},
   "outputs": [
    {
     "name": "stderr",
     "output_type": "stream",
     "text": [
      "c:\\program files\\python37\\lib\\site-packages\\pyLDAvis\\_prepare.py:257: FutureWarning: Sorting because non-concatenation axis is not aligned. A future version\n",
      "of pandas will change to not sort by default.\n",
      "\n",
      "To accept the future behavior, pass 'sort=False'.\n",
      "\n",
      "To retain the current behavior and silence the warning, pass 'sort=True'.\n",
      "\n",
      "  return pd.concat([default_term_info] + list(topic_dfs))\n"
     ]
    },
    {
     "data": {
      "text/html": [
       "\n",
       "<link rel=\"stylesheet\" type=\"text/css\" href=\"https://cdn.rawgit.com/bmabey/pyLDAvis/files/ldavis.v1.0.0.css\">\n",
       "\n",
       "\n",
       "<div id=\"ldavis_el1702022151304343203398391734\"></div>\n",
       "<script type=\"text/javascript\">\n",
       "\n",
       "var ldavis_el1702022151304343203398391734_data = {\"mdsDat\": {\"x\": [0.044084454661235326, -0.09971706409701486, 0.05563260943577953], \"y\": [0.0782030734888479, -0.00581334466920286, -0.072389728819645], \"topics\": [1, 2, 3], \"cluster\": [1, 1, 1], \"Freq\": [27.554569244384766, 36.887359619140625, 35.558074951171875]}, \"tinfo\": {\"Category\": [\"Default\", \"Default\", \"Default\", \"Default\", \"Default\", \"Default\", \"Default\", \"Default\", \"Default\", \"Default\", \"Default\", \"Default\", \"Default\", \"Default\", \"Default\", \"Default\", \"Default\", \"Default\", \"Default\", \"Default\", \"Default\", \"Default\", \"Default\", \"Default\", \"Default\", \"Default\", \"Default\", \"Default\", \"Default\", \"Default\", \"Topic1\", \"Topic1\", \"Topic1\", \"Topic1\", \"Topic1\", \"Topic1\", \"Topic1\", \"Topic1\", \"Topic1\", \"Topic1\", \"Topic1\", \"Topic1\", \"Topic1\", \"Topic1\", \"Topic1\", \"Topic1\", \"Topic1\", \"Topic1\", \"Topic1\", \"Topic1\", \"Topic1\", \"Topic1\", \"Topic1\", \"Topic1\", \"Topic1\", \"Topic1\", \"Topic1\", \"Topic1\", \"Topic1\", \"Topic1\", \"Topic1\", \"Topic1\", \"Topic1\", \"Topic1\", \"Topic1\", \"Topic2\", \"Topic2\", \"Topic2\", \"Topic2\", \"Topic2\", \"Topic2\", \"Topic2\", \"Topic2\", \"Topic2\", \"Topic2\", \"Topic2\", \"Topic2\", \"Topic2\", \"Topic2\", \"Topic2\", \"Topic2\", \"Topic2\", \"Topic2\", \"Topic2\", \"Topic2\", \"Topic2\", \"Topic2\", \"Topic2\", \"Topic2\", \"Topic2\", \"Topic2\", \"Topic2\", \"Topic2\", \"Topic2\", \"Topic2\", \"Topic2\", \"Topic2\", \"Topic2\", \"Topic2\", \"Topic3\", \"Topic3\", \"Topic3\", \"Topic3\", \"Topic3\", \"Topic3\", \"Topic3\", \"Topic3\", \"Topic3\", \"Topic3\", \"Topic3\", \"Topic3\", \"Topic3\", \"Topic3\", \"Topic3\", \"Topic3\", \"Topic3\", \"Topic3\", \"Topic3\", \"Topic3\", \"Topic3\", \"Topic3\", \"Topic3\", \"Topic3\", \"Topic3\", \"Topic3\", \"Topic3\", \"Topic3\", \"Topic3\", \"Topic3\", \"Topic3\", \"Topic3\", \"Topic3\"], \"Freq\": [2.0, 1.0, 1.0, 1.0, 1.0, 1.0, 1.0, 1.0, 1.0, 1.0, 1.0, 1.0, 1.0, 1.0, 1.0, 1.0, 1.0, 1.0, 1.0, 1.0, 1.0, 1.0, 1.0, 1.0, 1.0, 1.0, 1.0, 1.0, 1.0, 1.0, 1.1667784452438354, 0.6667637825012207, 0.6667635440826416, 0.6667622327804565, 0.6667617559432983, 0.6667611598968506, 0.6667598485946655, 0.6667571067810059, 0.6667563915252686, 0.6667550802230835, 0.6666743755340576, 0.6666736602783203, 0.6666734218597412, 0.6666721105575562, 0.666671872138977, 0.6666708588600159, 0.6666700839996338, 0.6666679382324219, 0.6666674017906189, 0.666664183139801, 0.6666605472564697, 0.6665554046630859, 0.6665465235710144, 0.6665415167808533, 0.6665369272232056, 0.6665348410606384, 0.6664214134216309, 0.6664039492607117, 0.6664031744003296, 0.6663959622383118, 0.6698838472366333, 0.668571412563324, 0.6681334376335144, 0.6676726341247559, 0.6672788858413696, 1.3035351037979126, 1.3032904863357544, 0.7447835803031921, 0.744782567024231, 0.7447816133499146, 0.7447811365127563, 0.7447798252105713, 0.7447739839553833, 0.7447037100791931, 0.7447032928466797, 0.7446971535682678, 0.7446954846382141, 0.7446919679641724, 0.7446918487548828, 0.7446901798248291, 0.7446897625923157, 0.7446845173835754, 0.744678258895874, 0.7446779608726501, 0.7446244359016418, 0.744622528553009, 0.7446218132972717, 0.7446211576461792, 0.7446176409721375, 0.7446016073226929, 0.7444539666175842, 0.7444489598274231, 0.7444440722465515, 0.7444223761558533, 0.7443548440933228, 0.7443652153015137, 1.312890887260437, 0.746761679649353, 0.7467401027679443, 1.8309963941574097, 1.2816230058670044, 1.281517744064331, 1.281364917755127, 0.7322031259536743, 0.7322024703025818, 0.7322019934654236, 0.7321942448616028, 0.7321784496307373, 0.732174277305603, 0.7321711778640747, 0.7321544289588928, 0.7321516275405884, 0.7321498394012451, 0.7321488261222839, 0.7320907711982727, 0.7320881485939026, 0.7320871949195862, 0.7320839166641235, 0.7320733070373535, 0.7320737242698669, 0.7320510745048523, 0.7320468425750732, 0.7320414185523987, 0.7320451736450195, 0.7320137619972229, 0.7320135831832886, 0.7320124506950378, 0.7320064306259155, 0.7320083379745483, 1.2855039834976196, 1.2875384092330933, 0.7342419624328613], \"Term\": [\"model\", \"efficient\", \"temperature\", \"sensor\", \"image\", \"query\", \"drive\", \"constraint\", \"layout\", \"substrate\", \"symmetry\", \"aware\", \"handling\", \"analog\", \"placement\", \"sharing\", \"search\", \"composition\", \"decoder\", \"flexible\", \"cosmicai\", \"viterbi\", \"background\", \"reconfigurable\", \"programmable\", \"energy\", \"multiprocessor\", \"learning\", \"human\", \"sketch\", \"efficient\", \"constraint\", \"layout\", \"substrate\", \"symmetry\", \"aware\", \"handling\", \"analog\", \"placement\", \"sharing\", \"search\", \"composition\", \"decoder\", \"flexible\", \"cosmicai\", \"viterbi\", \"background\", \"reconfigurable\", \"programmable\", \"energy\", \"multiprocessor\", \"learning\", \"human\", \"sketch\", \"object\", \"classify\", \"preserve\", \"raytracing\", \"metaballs\", \"densely\", \"design\", \"network\", \"base\", \"content\", \"generate\", \"query\", \"drive\", \"cacheportal\", \"host\", \"center\", \"application\", \"acceleration\", \"database\", \"electronic\", \"voltage\", \"class\", \"fluorescent\", \"orient\", \"oscillate\", \"natural\", \"ballast\", \"language\", \"lamp\", \"robot\", \"metasearch\", \"highly\", \"scalable\", \"towards\", \"effective\", \"engine\", \"interactive\", \"cleaning\", \"potter\", \"wheel\", \"802.11a\", \"grow\", \"system\", \"large\", \"scale\", \"model\", \"temperature\", \"sensor\", \"image\", \"personalize\", \"predictive\", \"bilinear\", \"recommendation\", \"power\", \"gradient\", \"detection\", \"unify\", \"automatically\", \"label\", \"click\", \"toward\", \"software\", \"engineering\", \"approach\", \"plane\", \"methodology\", \"step\", \"simulation\", \"focal\", \"hybrid\", \"estimation\", \"parameter\", \"control\", \"spiht\", \"h.264/avc\", \"using\", \"generate\", \"dynamic\"], \"Total\": [2.0, 1.0, 1.0, 1.0, 1.0, 1.0, 1.0, 1.0, 1.0, 1.0, 1.0, 1.0, 1.0, 1.0, 1.0, 1.0, 1.0, 1.0, 1.0, 1.0, 1.0, 1.0, 1.0, 1.0, 1.0, 1.0, 1.0, 1.0, 1.0, 1.0, 1.5366758108139038, 1.0364229679107666, 1.0364230871200562, 1.0364230871200562, 1.0364232063293457, 1.0364232063293457, 1.0364234447479248, 1.036423683166504, 1.0364238023757935, 1.036423921585083, 1.0364323854446411, 1.0364323854446411, 1.0364325046539307, 1.0364325046539307, 1.0364325046539307, 1.0364327430725098, 1.0364327430725098, 1.0364331007003784, 1.036433219909668, 1.0364335775375366, 1.0364339351654053, 1.036445140838623, 1.03644597530365, 1.036446452140808, 1.0364470481872559, 1.036447286605835, 1.0364574193954468, 1.0364608764648438, 1.0364611148834229, 1.0364598035812378, 1.5855612754821777, 1.585691213607788, 1.5857335329055786, 1.5857784748077393, 2.6940059661865234, 1.653846263885498, 1.6538301706314087, 1.0950007438659668, 1.0950005054473877, 1.0950006246566772, 1.0950005054473877, 1.0950005054473877, 1.0950002670288086, 1.0949946641921997, 1.0949944257736206, 1.0949944257736206, 1.0949941873550415, 1.0949938297271729, 1.0949939489364624, 1.0949937105178833, 1.0949937105178833, 1.0949933528900146, 1.094992756843567, 1.094992995262146, 1.094989538192749, 1.0949888229370117, 1.0949894189834595, 1.0949890613555908, 1.0949890613555908, 1.0949878692626953, 1.0949766635894775, 1.0949759483337402, 1.0949755907058716, 1.0949739217758179, 1.0949561595916748, 1.0949718952178955, 2.2034032344818115, 1.6444499492645264, 1.6444494724273682, 2.1844966411590576, 1.63505220413208, 1.6350421905517578, 1.635028600692749, 1.0856019258499146, 1.085601568222046, 1.085601806640625, 1.0856016874313354, 1.0856019258499146, 1.0856022834777832, 1.0856019258499146, 1.0855997800827026, 1.0855997800827026, 1.0855995416641235, 1.085599422454834, 1.085597038269043, 1.085597038269043, 1.0855967998504639, 1.0855967998504639, 1.0855929851531982, 1.0855964422225952, 1.085597276687622, 1.085597038269043, 1.0855896472930908, 1.085597276687622, 1.0855944156646729, 1.0855947732925415, 1.0855947732925415, 1.0855870246887207, 1.0855944156646729, 2.1937546730041504, 2.6940059661865234, 1.58603835105896], \"loglift\": [30.0, 29.0, 28.0, 27.0, 26.0, 25.0, 24.0, 23.0, 22.0, 21.0, 20.0, 19.0, 18.0, 17.0, 16.0, 15.0, 14.0, 13.0, 12.0, 11.0, 10.0, 9.0, 8.0, 7.0, 6.0, 5.0, 4.0, 3.0, 2.0, 1.0, 1.0135999917984009, 0.8478999733924866, 0.8478999733924866, 0.8478999733924866, 0.8478999733924866, 0.8478999733924866, 0.8478999733924866, 0.8478999733924866, 0.8478999733924866, 0.8478999733924866, 0.8478000164031982, 0.8478000164031982, 0.8478000164031982, 0.8478000164031982, 0.8478000164031982, 0.8478000164031982, 0.8478000164031982, 0.8478000164031982, 0.8478000164031982, 0.8476999998092651, 0.8476999998092651, 0.847599983215332, 0.847599983215332, 0.847599983215332, 0.8475000262260437, 0.8475000262260437, 0.8474000096321106, 0.8472999930381775, 0.8472999930381775, 0.8472999930381775, 0.42739999294281006, 0.4253999888896942, 0.424699991941452, 0.42399999499320984, -0.10660000145435333, 0.7592999935150146, 0.7591000199317932, 0.6118999719619751, 0.6118999719619751, 0.6118999719619751, 0.6118999719619751, 0.6118999719619751, 0.6118999719619751, 0.6118000149726868, 0.6118000149726868, 0.6118000149726868, 0.6118000149726868, 0.6118000149726868, 0.6118000149726868, 0.6118000149726868, 0.6118000149726868, 0.6118000149726868, 0.6118000149726868, 0.6116999983787537, 0.6116999983787537, 0.6116999983787537, 0.6116999983787537, 0.6116999983787537, 0.6116999983787537, 0.6116999983787537, 0.6115000247955322, 0.6115000247955322, 0.6115000247955322, 0.6114000082015991, 0.611299991607666, 0.611299991607666, 0.4794999957084656, 0.2079000025987625, 0.2079000025987625, 0.8575000166893005, 0.7904999852180481, 0.7904000282287598, 0.7903000116348267, 0.6402000188827515, 0.6402000188827515, 0.6402000188827515, 0.6402000188827515, 0.6401000022888184, 0.6401000022888184, 0.6401000022888184, 0.6401000022888184, 0.6401000022888184, 0.6401000022888184, 0.6401000022888184, 0.6399999856948853, 0.6399999856948853, 0.6399999856948853, 0.6399999856948853, 0.6399999856948853, 0.6399999856948853, 0.6399999856948853, 0.6399999856948853, 0.6399999856948853, 0.6399999856948853, 0.6399000287055969, 0.6399000287055969, 0.6399000287055969, 0.6399000287055969, 0.6399000287055969, 0.49950000643730164, 0.2957000136375427, 0.2637999951839447], \"logprob\": [30.0, 29.0, 28.0, 27.0, 26.0, 25.0, 24.0, 23.0, 22.0, 21.0, 20.0, 19.0, 18.0, 17.0, 16.0, 15.0, 14.0, 13.0, 12.0, 11.0, 10.0, 9.0, 8.0, 7.0, 6.0, 5.0, 4.0, 3.0, 2.0, 1.0, -3.6001999378204346, -4.1596999168396, -4.1596999168396, -4.1596999168396, -4.1596999168396, -4.1596999168396, -4.1596999168396, -4.159800052642822, -4.159800052642822, -4.159800052642822, -4.159900188446045, -4.159900188446045, -4.159900188446045, -4.159900188446045, -4.159900188446045, -4.159900188446045, -4.159900188446045, -4.159900188446045, -4.159900188446045, -4.159900188446045, -4.159900188446045, -4.160099983215332, -4.160099983215332, -4.160099983215332, -4.160099983215332, -4.160099983215332, -4.160299777984619, -4.160299777984619, -4.160299777984619, -4.160299777984619, -4.155099868774414, -4.1570000648498535, -4.157700061798096, -4.158400058746338, -4.158999919891357, -3.7809998989105225, -3.7811999320983887, -4.340799808502197, -4.340799808502197, -4.340799808502197, -4.340799808502197, -4.340799808502197, -4.340799808502197, -4.34089994430542, -4.34089994430542, -4.34089994430542, -4.34089994430542, -4.34089994430542, -4.34089994430542, -4.34089994430542, -4.34089994430542, -4.34089994430542, -4.34089994430542, -4.34089994430542, -4.341000080108643, -4.341000080108643, -4.341000080108643, -4.341000080108643, -4.341000080108643, -4.341000080108643, -4.34119987487793, -4.34119987487793, -4.34119987487793, -4.341300010681152, -4.341400146484375, -4.341300010681152, -3.773900032043457, -4.338099956512451, -4.338200092315674, -3.404599905014038, -3.7613000869750977, -3.761399984359741, -3.7614998817443848, -4.321100234985352, -4.321100234985352, -4.321100234985352, -4.321100234985352, -4.321199893951416, -4.321199893951416, -4.321199893951416, -4.321199893951416, -4.321199893951416, -4.321199893951416, -4.321199893951416, -4.321300029754639, -4.321300029754639, -4.321300029754639, -4.321300029754639, -4.321300029754639, -4.321300029754639, -4.321300029754639, -4.321300029754639, -4.321300029754639, -4.321300029754639, -4.321400165557861, -4.321400165557861, -4.321400165557861, -4.321400165557861, -4.321400165557861, -3.7583000659942627, -3.756700038909912, -4.318299770355225]}, \"token.table\": {\"Topic\": [2, 2, 1, 2, 3, 3, 1, 1, 2, 1, 3, 3, 2, 2, 2, 1, 2, 3, 1, 1, 1, 3, 3, 1, 2, 1, 1, 1, 3, 3, 2, 1, 3, 2, 1, 2, 1, 2, 3, 3, 1, 2, 3, 1, 2, 3, 3, 2, 3, 1, 2, 2, 1, 3, 3, 2, 3, 2, 2, 2, 3, 1, 1, 1, 2, 3, 3, 1, 2, 1, 3, 1, 2, 2, 3, 3, 1, 3, 2, 3, 3, 1, 1, 2, 1, 3, 1, 2, 2, 2, 3, 1, 3, 1, 3, 1, 3, 3, 3, 1, 1, 2, 3, 3, 3, 2, 3, 2, 3, 1, 2, 2], \"Freq\": [0.9132785797119141, 0.9132415652275085, 0.9648563861846924, 0.9132415652275085, 0.9211522936820984, 0.9211497902870178, 0.9648568034172058, 0.9648479223251343, 0.9132472276687622, 0.6306229829788208, 0.6306229829788208, 0.9211480617523193, 0.9132413864135742, 0.9132415056228638, 0.9132466316223145, 0.9648343920707703, 0.9132620692253113, 0.9211500883102417, 0.9648482799530029, 0.9648570418357849, 0.6306051015853882, 0.6306051015853882, 0.9211540222167969, 0.9648481607437134, 0.9132418036460876, 0.9648481607437134, 0.9648227691650391, 0.6306914687156677, 0.6306914687156677, 0.9211479425430298, 0.604656994342804, 0.6305018067359924, 0.6305018067359924, 0.9132511615753174, 0.6507553458213806, 0.9132464528083801, 0.9648471474647522, 0.9132521152496338, 0.9211522936820984, 0.9211543202400208, 0.9648481607437134, 0.9132468700408936, 0.9211583733558655, 0.37119442224502563, 0.37119442224502563, 0.37119442224502563, 0.9211476445198059, 0.9132654666900635, 0.9211543202400208, 0.9648566246032715, 0.9132513403892517, 0.9132415652275085, 0.9648356437683105, 0.921151876449585, 0.6116101145744324, 0.9132614731788635, 0.9211499691009521, 0.9132480621337891, 0.9132475256919861, 0.6081060767173767, 0.6081060767173767, 0.9648569226264954, 0.9648364186286926, 0.9648215174674988, 0.913250744342804, 0.9211525917053223, 0.915542721748352, 0.9648468494415283, 0.9132472276687622, 0.6306397914886475, 0.6306397914886475, 0.9648346304893494, 0.9132471680641174, 0.9132470488548279, 0.9211540222167969, 0.9211479425430298, 0.9648562669754028, 0.921155571937561, 0.9132623672485352, 0.9211479425430298, 0.9211482405662537, 0.9648249745368958, 0.9648475050926208, 0.6046510934829712, 0.9648217558860779, 0.9211481809616089, 0.9648476243019104, 0.91324782371521, 0.9132508635520935, 0.608106255531311, 0.608106255531311, 0.9648482799530029, 0.6116049885749817, 0.9648561477661133, 0.9211521148681641, 0.9648351669311523, 0.9211521148681641, 0.9211605787277222, 0.921151876449585, 0.9648569226264954, 0.9648568034172058, 0.4538433849811554, 0.4538433849811554, 0.6116012930870056, 0.9211521148681641, 0.9132511615753174, 0.9211497902870178, 0.45583948493003845, 0.45583948493003845, 0.9648479223251343, 0.9132466316223145, 0.913263738155365], \"Term\": [\"802.11a\", \"acceleration\", \"analog\", \"application\", \"approach\", \"automatically\", \"aware\", \"background\", \"ballast\", \"base\", \"base\", \"bilinear\", \"cacheportal\", \"center\", \"class\", \"classify\", \"cleaning\", \"click\", \"composition\", \"constraint\", \"content\", \"content\", \"control\", \"cosmicai\", \"database\", \"decoder\", \"densely\", \"design\", \"design\", \"detection\", \"drive\", \"dynamic\", \"dynamic\", \"effective\", \"efficient\", \"electronic\", \"energy\", \"engine\", \"engineering\", \"estimation\", \"flexible\", \"fluorescent\", \"focal\", \"generate\", \"generate\", \"generate\", \"gradient\", \"grow\", \"h.264/avc\", \"handling\", \"highly\", \"host\", \"human\", \"hybrid\", \"image\", \"interactive\", \"label\", \"lamp\", \"language\", \"large\", \"large\", \"layout\", \"learning\", \"metaballs\", \"metasearch\", \"methodology\", \"model\", \"multiprocessor\", \"natural\", \"network\", \"network\", \"object\", \"orient\", \"oscillate\", \"parameter\", \"personalize\", \"placement\", \"plane\", \"potter\", \"power\", \"predictive\", \"preserve\", \"programmable\", \"query\", \"raytracing\", \"recommendation\", \"reconfigurable\", \"robot\", \"scalable\", \"scale\", \"scale\", \"search\", \"sensor\", \"sharing\", \"simulation\", \"sketch\", \"software\", \"spiht\", \"step\", \"substrate\", \"symmetry\", \"system\", \"system\", \"temperature\", \"toward\", \"towards\", \"unify\", \"using\", \"using\", \"viterbi\", \"voltage\", \"wheel\"]}, \"R\": 30, \"lambda.step\": 0.01, \"plot.opts\": {\"xlab\": \"PC1\", \"ylab\": \"PC2\"}, \"topic.order\": [1, 2, 3]};\n",
       "\n",
       "function LDAvis_load_lib(url, callback){\n",
       "  var s = document.createElement('script');\n",
       "  s.src = url;\n",
       "  s.async = true;\n",
       "  s.onreadystatechange = s.onload = callback;\n",
       "  s.onerror = function(){console.warn(\"failed to load library \" + url);};\n",
       "  document.getElementsByTagName(\"head\")[0].appendChild(s);\n",
       "}\n",
       "\n",
       "if(typeof(LDAvis) !== \"undefined\"){\n",
       "   // already loaded: just create the visualization\n",
       "   !function(LDAvis){\n",
       "       new LDAvis(\"#\" + \"ldavis_el1702022151304343203398391734\", ldavis_el1702022151304343203398391734_data);\n",
       "   }(LDAvis);\n",
       "}else if(typeof define === \"function\" && define.amd){\n",
       "   // require.js is available: use it to load d3/LDAvis\n",
       "   require.config({paths: {d3: \"https://cdnjs.cloudflare.com/ajax/libs/d3/3.5.5/d3.min\"}});\n",
       "   require([\"d3\"], function(d3){\n",
       "      window.d3 = d3;\n",
       "      LDAvis_load_lib(\"https://cdn.rawgit.com/bmabey/pyLDAvis/files/ldavis.v1.0.0.js\", function(){\n",
       "        new LDAvis(\"#\" + \"ldavis_el1702022151304343203398391734\", ldavis_el1702022151304343203398391734_data);\n",
       "      });\n",
       "    });\n",
       "}else{\n",
       "    // require.js not available: dynamically load d3 & LDAvis\n",
       "    LDAvis_load_lib(\"https://cdnjs.cloudflare.com/ajax/libs/d3/3.5.5/d3.min.js\", function(){\n",
       "         LDAvis_load_lib(\"https://cdn.rawgit.com/bmabey/pyLDAvis/files/ldavis.v1.0.0.js\", function(){\n",
       "                 new LDAvis(\"#\" + \"ldavis_el1702022151304343203398391734\", ldavis_el1702022151304343203398391734_data);\n",
       "            })\n",
       "         });\n",
       "}\n",
       "</script>"
      ],
      "text/plain": [
       "<IPython.core.display.HTML object>"
      ]
     },
     "execution_count": 18,
     "metadata": {},
     "output_type": "execute_result"
    }
   ],
   "source": [
    "lda3 = gensim.models.ldamodel.LdaModel.load('model3.gensim')\n",
    "lda_display3 = pyLDAvis.gensim.prepare(lda3, corpus, dictionary, sort_topics=False)\n",
    "pyLDAvis.save_html(lda_display3, 'lda3.html')\n",
    "pyLDAvis.display(lda_display3)"
   ]
  },
  {
   "cell_type": "code",
   "execution_count": 19,
   "metadata": {
    "scrolled": true
   },
   "outputs": [
    {
     "name": "stderr",
     "output_type": "stream",
     "text": [
      "c:\\program files\\python37\\lib\\site-packages\\pyLDAvis\\_prepare.py:257: FutureWarning: Sorting because non-concatenation axis is not aligned. A future version\n",
      "of pandas will change to not sort by default.\n",
      "\n",
      "To accept the future behavior, pass 'sort=False'.\n",
      "\n",
      "To retain the current behavior and silence the warning, pass 'sort=True'.\n",
      "\n",
      "  return pd.concat([default_term_info] + list(topic_dfs))\n"
     ]
    },
    {
     "data": {
      "text/html": [
       "\n",
       "<link rel=\"stylesheet\" type=\"text/css\" href=\"https://cdn.rawgit.com/bmabey/pyLDAvis/files/ldavis.v1.0.0.css\">\n",
       "\n",
       "\n",
       "<div id=\"ldavis_el1702022152058289122393531289\"></div>\n",
       "<script type=\"text/javascript\">\n",
       "\n",
       "var ldavis_el1702022152058289122393531289_data = {\"mdsDat\": {\"x\": [0.024370277339356008, -0.0457421163728928, 0.012168202474698433, 0.1659865086912363, -0.04375301228520366, 0.011434882662182877, -0.004856199762490731, 0.08281882186535454, -0.05394336722673132, -0.14848399738550938], \"y\": [-0.021544593771879606, 0.01905907730597998, 0.003755555901071956, -0.12198506788048606, -0.010312463757174522, 0.004030929412029485, -0.0016957626472236887, 0.1786315881474815, -0.011801710309444925, -0.038137552400354116], \"topics\": [1, 2, 3, 4, 5, 6, 7, 8, 9, 10], \"cluster\": [1, 1, 1, 1, 1, 1, 1, 1, 1, 1], \"Freq\": [7.96810245513916, 9.432249069213867, 3.3928353786468506, 20.46912956237793, 10.505739212036133, 4.016490936279297, 4.0164899826049805, 17.775310516357422, 7.968095779418945, 14.455556869506836]}, \"tinfo\": {\"Category\": [\"Default\", \"Default\", \"Default\", \"Default\", \"Default\", \"Default\", \"Default\", \"Default\", \"Default\", \"Default\", \"Default\", \"Default\", \"Default\", \"Default\", \"Default\", \"Default\", \"Default\", \"Default\", \"Default\", \"Default\", \"Default\", \"Default\", \"Default\", \"Default\", \"Default\", \"Default\", \"Default\", \"Default\", \"Default\", \"Default\", \"Topic1\", \"Topic1\", \"Topic1\", \"Topic1\", \"Topic1\", \"Topic1\", \"Topic1\", \"Topic1\", \"Topic1\", \"Topic1\", \"Topic1\", \"Topic1\", \"Topic1\", \"Topic1\", \"Topic1\", \"Topic1\", \"Topic1\", \"Topic1\", \"Topic1\", \"Topic1\", \"Topic1\", \"Topic1\", \"Topic1\", \"Topic1\", \"Topic1\", \"Topic1\", \"Topic1\", \"Topic1\", \"Topic1\", \"Topic1\", \"Topic1\", \"Topic1\", \"Topic1\", \"Topic1\", \"Topic1\", \"Topic1\", \"Topic1\", \"Topic1\", \"Topic1\", \"Topic1\", \"Topic2\", \"Topic2\", \"Topic2\", \"Topic2\", \"Topic2\", \"Topic2\", \"Topic2\", \"Topic2\", \"Topic2\", \"Topic2\", \"Topic2\", \"Topic2\", \"Topic2\", \"Topic2\", \"Topic2\", \"Topic2\", \"Topic2\", \"Topic2\", \"Topic2\", \"Topic2\", \"Topic2\", \"Topic2\", \"Topic2\", \"Topic2\", \"Topic2\", \"Topic2\", \"Topic2\", \"Topic2\", \"Topic2\", \"Topic2\", \"Topic2\", \"Topic2\", \"Topic2\", \"Topic2\", \"Topic2\", \"Topic2\", \"Topic2\", \"Topic2\", \"Topic2\", \"Topic2\", \"Topic2\", \"Topic2\", \"Topic2\", \"Topic2\", \"Topic2\", \"Topic2\", \"Topic2\", \"Topic3\", \"Topic3\", \"Topic3\", \"Topic3\", \"Topic3\", \"Topic3\", \"Topic3\", \"Topic3\", \"Topic3\", \"Topic3\", \"Topic3\", \"Topic3\", \"Topic3\", \"Topic3\", \"Topic3\", \"Topic3\", \"Topic3\", \"Topic3\", \"Topic3\", \"Topic3\", \"Topic3\", \"Topic3\", \"Topic3\", \"Topic3\", \"Topic3\", \"Topic3\", \"Topic3\", \"Topic3\", \"Topic3\", \"Topic3\", \"Topic3\", \"Topic3\", \"Topic3\", \"Topic3\", \"Topic3\", \"Topic3\", \"Topic3\", \"Topic3\", \"Topic3\", \"Topic3\", \"Topic3\", \"Topic3\", \"Topic3\", \"Topic3\", \"Topic3\", \"Topic3\", \"Topic3\", \"Topic4\", \"Topic4\", \"Topic4\", \"Topic4\", \"Topic4\", \"Topic4\", \"Topic4\", \"Topic4\", \"Topic4\", \"Topic4\", \"Topic4\", \"Topic4\", \"Topic4\", \"Topic4\", \"Topic4\", \"Topic4\", \"Topic4\", \"Topic4\", \"Topic4\", \"Topic4\", \"Topic4\", \"Topic4\", \"Topic4\", \"Topic4\", \"Topic4\", \"Topic4\", \"Topic4\", \"Topic4\", \"Topic4\", \"Topic4\", \"Topic4\", \"Topic5\", \"Topic5\", \"Topic5\", \"Topic5\", \"Topic5\", \"Topic5\", \"Topic5\", \"Topic5\", \"Topic5\", \"Topic5\", \"Topic5\", \"Topic5\", \"Topic5\", \"Topic5\", \"Topic5\", \"Topic5\", \"Topic5\", \"Topic5\", \"Topic5\", \"Topic5\", \"Topic5\", \"Topic5\", \"Topic5\", \"Topic5\", \"Topic5\", \"Topic5\", \"Topic5\", \"Topic5\", \"Topic5\", \"Topic5\", \"Topic5\", \"Topic5\", \"Topic5\", \"Topic5\", \"Topic5\", \"Topic5\", \"Topic5\", \"Topic5\", \"Topic5\", \"Topic5\", \"Topic5\", \"Topic5\", \"Topic5\", \"Topic5\", \"Topic5\", \"Topic5\", \"Topic5\", \"Topic5\", \"Topic5\", \"Topic5\", \"Topic5\", \"Topic5\", \"Topic5\", \"Topic6\", \"Topic6\", \"Topic6\", \"Topic6\", \"Topic6\", \"Topic6\", \"Topic6\", \"Topic6\", \"Topic6\", \"Topic6\", \"Topic6\", \"Topic6\", \"Topic6\", \"Topic6\", \"Topic6\", \"Topic6\", \"Topic6\", \"Topic6\", \"Topic6\", \"Topic6\", \"Topic6\", \"Topic6\", \"Topic6\", \"Topic6\", \"Topic6\", \"Topic6\", \"Topic6\", \"Topic6\", \"Topic6\", \"Topic6\", \"Topic6\", \"Topic6\", \"Topic6\", \"Topic6\", \"Topic6\", \"Topic6\", \"Topic6\", \"Topic6\", \"Topic6\", \"Topic6\", \"Topic6\", \"Topic6\", \"Topic6\", \"Topic6\", \"Topic6\", \"Topic6\", \"Topic6\", \"Topic6\", \"Topic6\", \"Topic6\", \"Topic7\", \"Topic7\", \"Topic7\", \"Topic7\", \"Topic7\", \"Topic7\", \"Topic7\", \"Topic7\", \"Topic7\", \"Topic7\", \"Topic7\", \"Topic7\", \"Topic7\", \"Topic7\", \"Topic7\", \"Topic7\", \"Topic7\", \"Topic7\", \"Topic7\", \"Topic7\", \"Topic7\", \"Topic7\", \"Topic7\", \"Topic7\", \"Topic7\", \"Topic7\", \"Topic7\", \"Topic7\", \"Topic7\", \"Topic7\", \"Topic7\", \"Topic7\", \"Topic7\", \"Topic7\", \"Topic7\", \"Topic7\", \"Topic7\", \"Topic7\", \"Topic7\", \"Topic7\", \"Topic7\", \"Topic7\", \"Topic7\", \"Topic7\", \"Topic7\", \"Topic7\", \"Topic7\", \"Topic7\", \"Topic7\", \"Topic7\", \"Topic8\", \"Topic8\", \"Topic8\", \"Topic8\", \"Topic8\", \"Topic8\", \"Topic8\", \"Topic8\", \"Topic8\", \"Topic8\", \"Topic8\", \"Topic8\", \"Topic8\", \"Topic8\", \"Topic8\", \"Topic8\", \"Topic8\", \"Topic8\", \"Topic8\", \"Topic8\", \"Topic8\", \"Topic8\", \"Topic8\", \"Topic8\", \"Topic8\", \"Topic8\", \"Topic8\", \"Topic8\", \"Topic8\", \"Topic8\", \"Topic8\", \"Topic8\", \"Topic8\", \"Topic9\", \"Topic9\", \"Topic9\", \"Topic9\", \"Topic9\", \"Topic9\", \"Topic9\", \"Topic9\", \"Topic9\", \"Topic9\", \"Topic9\", \"Topic9\", \"Topic9\", \"Topic9\", \"Topic9\", \"Topic9\", \"Topic9\", \"Topic9\", \"Topic9\", \"Topic9\", \"Topic9\", \"Topic9\", \"Topic9\", \"Topic9\", \"Topic9\", \"Topic9\", \"Topic9\", \"Topic9\", \"Topic9\", \"Topic9\", \"Topic9\", \"Topic9\", \"Topic9\", \"Topic9\", \"Topic9\", \"Topic9\", \"Topic9\", \"Topic9\", \"Topic9\", \"Topic9\", \"Topic9\", \"Topic9\", \"Topic9\", \"Topic9\", \"Topic10\", \"Topic10\", \"Topic10\", \"Topic10\", \"Topic10\", \"Topic10\", \"Topic10\", \"Topic10\", \"Topic10\", \"Topic10\", \"Topic10\", \"Topic10\", \"Topic10\", \"Topic10\", \"Topic10\", \"Topic10\", \"Topic10\", \"Topic10\", \"Topic10\", \"Topic10\", \"Topic10\", \"Topic10\", \"Topic10\", \"Topic10\", \"Topic10\", \"Topic10\", \"Topic10\", \"Topic10\", \"Topic10\", \"Topic10\", \"Topic10\", \"Topic10\", \"Topic10\", \"Topic10\", \"Topic10\", \"Topic10\", \"Topic10\", \"Topic10\", \"Topic10\", \"Topic10\", \"Topic10\"], \"Freq\": [2.0, 1.0, 2.0, 1.0, 2.0, 0.0, 0.0, 0.0, 0.0, 2.0, 1.0, 0.0, 0.0, 0.0, 0.0, 0.0, 0.0, 0.0, 0.0, 0.0, 1.0, 1.0, 1.0, 1.0, 0.0, 0.0, 0.0, 0.0, 0.0, 0.0, 0.5369794368743896, 0.5369794368743896, 0.5369794368743896, 0.5369794368743896, 0.5369794368743896, 0.5369794368743896, 0.5369792580604553, 0.5369792580604553, 0.5369792580604553, 0.5369792580604553, 0.5369820594787598, 0.5369791984558105, 0.048816557973623276, 0.048816557973623276, 0.048816557973623276, 0.048816557973623276, 0.04881655052304268, 0.048816557973623276, 0.048816557973623276, 0.04881655052304268, 0.048816557973623276, 0.04881655052304268, 0.04881655052304268, 0.04881655052304268, 0.04881655052304268, 0.04881655052304268, 0.04881655052304268, 0.048816557973623276, 0.04881655052304268, 0.048816557973623276, 0.04881655052304268, 0.04881655052304268, 0.04881656914949417, 0.04881655052304268, 0.048816557973623276, 0.04881655052304268, 0.04881655052304268, 0.04881655052304268, 0.04881655052304268, 0.048816557973623276, 0.5682671070098877, 0.5682670474052429, 0.5682670474052429, 0.5682670474052429, 0.5682670474052429, 0.5682670474052429, 0.5682670474052429, 0.568266749382019, 0.568266749382019, 0.5682665109634399, 0.5682664513587952, 0.5682640671730042, 0.5682660937309265, 0.5682652592658997, 0.5682661533355713, 0.0516609288752079, 0.0516609288752079, 0.0516609326004982, 0.0516609251499176, 0.0516609288752079, 0.0516609288752079, 0.0516609251499176, 0.0516609288752079, 0.0516609288752079, 0.0516609288752079, 0.0516609288752079, 0.0516609251499176, 0.0516609251499176, 0.0516609288752079, 0.0516609288752079, 0.0516609288752079, 0.0516609251499176, 0.0516609251499176, 0.0516609288752079, 0.0516609251499176, 0.0516609251499176, 0.0516609251499176, 0.0516609251499176, 0.0516609251499176, 0.0516609251499176, 0.0516609251499176, 0.0516609251499176, 0.0516609251499176, 0.0516609288752079, 0.0516609251499176, 0.0516609251499176, 0.0516609251499176, 0.334379643201828, 0.334379643201828, 0.334379643201828, 0.334379643201828, 0.030398264527320862, 0.030398264527320862, 0.030398264527320862, 0.030398264527320862, 0.030398264527320862, 0.030398264527320862, 0.030398264527320862, 0.030398264527320862, 0.030398264527320862, 0.030398264527320862, 0.030398264527320862, 0.030398264527320862, 0.030398264527320862, 0.030398264527320862, 0.030398264527320862, 0.030398264527320862, 0.030398264527320862, 0.030398264527320862, 0.030398264527320862, 0.030398264527320862, 0.030398264527320862, 0.030398264527320862, 0.030398264527320862, 0.030398264527320862, 0.030398264527320862, 0.030398264527320862, 0.03039827197790146, 0.03039827011525631, 0.03039827011525631, 0.03039827197790146, 0.030398264527320862, 0.030398264527320862, 0.030398264527320862, 0.030398264527320862, 0.030398264527320862, 0.030398264527320862, 0.030398264527320862, 0.030398264527320862, 0.030398264527320862, 0.030398264527320862, 0.030398264527320862, 0.030398264527320862, 0.030398264527320862, 1.4086087942123413, 1.4086086750030518, 0.7378391623497009, 0.7378390431404114, 0.7378390431404114, 0.7378390431404114, 0.7378390431404114, 0.7378390431404114, 0.7378390431404114, 0.7378391623497009, 0.7378391623497009, 0.7378387451171875, 0.7378387451171875, 0.7378387451171875, 0.7378387451171875, 0.7378387451171875, 0.7378387451171875, 0.7378387451171875, 0.7378387451171875, 0.7378389239311218, 0.7378389239311218, 0.7378389239311218, 0.7378385066986084, 0.7378385066986084, 0.7378389239311218, 0.7378385663032532, 0.7378385663032532, 1.4086086750030518, 0.7378374338150024, 0.7378368377685547, 0.7378368377685547, 1.167105793952942, 0.6113393306732178, 0.6113393306732178, 0.6113393306732178, 0.6113393306732178, 0.6113393306732178, 0.6113393306732178, 0.6113393306732178, 0.6113393306732178, 0.6113391518592834, 0.6113391518592834, 0.6113390922546387, 0.6113390922546387, 0.6113384366035461, 0.6113404631614685, 0.05557661131024361, 0.05557661131024361, 0.05557660758495331, 0.055576615035533905, 0.05557660758495331, 0.05557661131024361, 0.05557660758495331, 0.05557660758495331, 0.05557660758495331, 0.05557660758495331, 0.05557661131024361, 0.05557660758495331, 0.05557660758495331, 0.05557661131024361, 0.05557660758495331, 0.05557660758495331, 0.05557660758495331, 0.05557660758495331, 0.05557660758495331, 0.05557660758495331, 0.05557661131024361, 0.05557660758495331, 0.05557660758495331, 0.05557660758495331, 0.05557661131024361, 0.0555766224861145, 0.055576618760824203, 0.0555766224861145, 0.05557661131024361, 0.05557660758495331, 0.05557660758495331, 0.05557660758495331, 0.05557660758495331, 0.05557661131024361, 0.05557660758495331, 0.05557661131024361, 0.05557661131024361, 0.055576615035533905, 0.3742130994796753, 0.3742130994796753, 0.3742130994796753, 0.3742130994796753, 0.3742130994796753, 0.034019503742456436, 0.03401950001716614, 0.034019503742456436, 0.03401950001716614, 0.03401950001716614, 0.03401950001716614, 0.034019503742456436, 0.034019503742456436, 0.034019503742456436, 0.034019503742456436, 0.03401950001716614, 0.03401950001716614, 0.034019503742456436, 0.03401950001716614, 0.03401950001716614, 0.034019503742456436, 0.034019503742456436, 0.03401950001716614, 0.034019503742456436, 0.034019503742456436, 0.03401950001716614, 0.034019503742456436, 0.03401950001716614, 0.03401950001716614, 0.03401950001716614, 0.03401951119303703, 0.034019507467746735, 0.034019507467746735, 0.034019507467746735, 0.03401950001716614, 0.03401950001716614, 0.03401950001716614, 0.034019503742456436, 0.03401950001716614, 0.03401950001716614, 0.034019503742456436, 0.034019503742456436, 0.034019503742456436, 0.034019503742456436, 0.034019503742456436, 0.03401950001716614, 0.03401950001716614, 0.03401950001716614, 0.03401950001716614, 0.03401950001716614, 0.37421298027038574, 0.37421298027038574, 0.37421298027038574, 0.37421298027038574, 0.3742125332355499, 0.03401949256658554, 0.03401949629187584, 0.03401949256658554, 0.03401948884129524, 0.03401948884129524, 0.03401948884129524, 0.03401948884129524, 0.03401948884129524, 0.03401948884129524, 0.03401949256658554, 0.03401949256658554, 0.03401948884129524, 0.03401948884129524, 0.03401949256658554, 0.03401948884129524, 0.03401948884129524, 0.03401949256658554, 0.03401949256658554, 0.03401949256658554, 0.03401949256658554, 0.03401948884129524, 0.03401948884129524, 0.03401948884129524, 0.03401948884129524, 0.03401948884129524, 0.03401948884129524, 0.03401950001716614, 0.034019503742456436, 0.03401949256658554, 0.03401948884129524, 0.03401948884129524, 0.03401948884129524, 0.03401948884129524, 0.03401949256658554, 0.03401949256658554, 0.03401949256658554, 0.03401949629187584, 0.03401949256658554, 0.03401948884129524, 0.03401948884129524, 0.03401949256658554, 0.03401948884129524, 0.03401948884129524, 0.03401948884129524, 0.03401948884129524, 0.7164737582206726, 0.7164737582206726, 0.7164737582206726, 0.7164737582206726, 0.7164737582206726, 0.7164737582206726, 0.7164736390113831, 0.7164735794067383, 0.7164735794067383, 0.7164736390113831, 0.7164736390113831, 0.7164736390113831, 0.7164736390113831, 0.7164736390113831, 0.7164736390113831, 0.7164736390113831, 0.7164736390113831, 0.7164736390113831, 0.7164736390113831, 0.7164736390113831, 0.7164736390113831, 0.7164734601974487, 0.7164734601974487, 0.7164735794067383, 0.7164735794067383, 0.7164753079414368, 0.7164756059646606, 0.7164756059646606, 0.7164749503135681, 0.06513450294733047, 0.06513449549674988, 0.06513449549674988, 0.06513450294733047, 1.0251445770263672, 0.5369790196418762, 0.5369790196418762, 0.5369790196418762, 0.5369789004325867, 0.5369789004325867, 0.5369789004325867, 0.5369789004325867, 0.5369796752929688, 0.5369803309440613, 0.5369751453399658, 0.04881652072072029, 0.04881652072072029, 0.04881652072072029, 0.04881651699542999, 0.04881651699542999, 0.04881651699542999, 0.04881652072072029, 0.04881651699542999, 0.04881651699542999, 0.04881651699542999, 0.04881651699542999, 0.04881651699542999, 0.04881651699542999, 0.04881652072072029, 0.04881652072072029, 0.04881652072072029, 0.04881652072072029, 0.04881651699542999, 0.04881651699542999, 0.04881651699542999, 0.04881651699542999, 0.04881651699542999, 0.04881651699542999, 0.04881652817130089, 0.04881652817130089, 0.04881651699542999, 0.04881652072072029, 0.04881651699542999, 0.04881651699542999, 0.04881651699542999, 0.04881652072072029, 0.04881651699542999, 0.04881652072072029, 1.2962220907211304, 1.2962220907211304, 1.2962226867675781, 0.6789708733558655, 0.6789709329605103, 0.6789708137512207, 0.6789708137512207, 0.6789708137512207, 0.6789709329605103, 0.6789709329605103, 0.6789708137512207, 0.6789709329605103, 0.6789709329605103, 0.6789708137512207, 0.6789709329605103, 0.6789709329605103, 1.2962276935577393, 0.6789717674255371, 0.678968071937561, 0.06172505393624306, 0.06172505393624306, 0.06172504648566246, 0.06172505393624306, 0.06172505393624306, 0.06172504648566246, 0.06172505393624306, 0.06172505393624306, 0.06172504648566246, 0.06172505393624306, 0.06172505393624306, 0.06172504648566246, 0.06172504648566246, 0.06172507256269455, 0.06172505393624306, 0.06172504648566246, 0.06172504648566246, 0.06172504648566246, 0.06172504648566246, 0.06172505393624306, 0.061725057661533356, 0.06172504648566246], \"Term\": [\"model\", \"temperature\", \"generate\", \"image\", \"system\", \"henry\", \"garden\", \"grow\", \"cultivation\", \"using\", \"efficient\", \"control\", \"h.264/avc\", \"parameter\", \"classify\", \"object\", \"sketch\", \"human\", \"learning\", \"estimation\", \"sensor\", \"content\", \"base\", \"dynamic\", \"gradient\", \"detection\", \"power\", \"viterbi\", \"programmable\", \"multiprocessor\", \"programmable\", \"energy\", \"reconfigurable\", \"multiprocessor\", \"decoder\", \"viterbi\", \"wheel\", \"interactive\", \"cleaning\", \"potter\", \"efficient\", \"system\", \"cultivation\", \"grow\", \"henry\", \"garden\", \"estimation\", \"h.264/avc\", \"control\", \"parameter\", \"object\", \"learning\", \"sketch\", \"classify\", \"human\", \"algorithm\", \"automate\", \"detection\", \"stream\", \"program\", \"power\", \"gradient\", \"generate\", \"robot\", \"query\", \"orient\", \"natural\", \"metaballs\", \"raytracing\", \"step\", \"sensing\", \"discovery\", \"experience\", \"improve\", \"input\", \"medium\", \"socialsensor\", \"metaballs\", \"raytracing\", \"color\", \"manifold\", \"efficient\", \"dynamic\", \"drive\", \"generate\", \"grow\", \"henry\", \"garden\", \"cultivation\", \"estimation\", \"learning\", \"parameter\", \"object\", \"sketch\", \"classify\", \"control\", \"h.264/avc\", \"human\", \"stream\", \"automate\", \"detection\", \"algorithm\", \"program\", \"wheel\", \"power\", \"gradient\", \"decoder\", \"base\", \"aware\", \"analog\", \"search\", \"natural\", \"orient\", \"query\", \"robot\", \"flexible\", \"background\", \"henry\", \"cultivation\", \"grow\", \"garden\", \"estimation\", \"parameter\", \"classify\", \"control\", \"h.264/avc\", \"human\", \"learning\", \"object\", \"sketch\", \"automate\", \"algorithm\", \"stream\", \"detection\", \"gradient\", \"power\", \"program\", \"wheel\", \"interactive\", \"decoder\", \"potter\", \"cleaning\", \"reconfigurable\", \"programmable\", \"multiprocessor\", \"energy\", \"viterbi\", \"model\", \"efficient\", \"drive\", \"generate\", \"simulation\", \"step\", \"scale\", \"language\", \"natural\", \"orient\", \"query\", \"robot\", \"large\", \"metaballs\", \"raytracing\", \"background\", \"base\", \"design\", \"query\", \"layout\", \"symmetry\", \"substrate\", \"sharing\", \"placement\", \"handling\", \"constraint\", \"aware\", \"analog\", \"approach\", \"methodology\", \"software\", \"toward\", \"engineering\", \"step\", \"simulation\", \"hybrid\", \"natural\", \"language\", \"robot\", \"information\", \"processing\", \"orient\", \"generalize\", \"management\", \"system\", \"network\", \"scale\", \"large\", \"image\", \"802.11a\", \"active\", \"bandpass\", \"feedback\", \"filter\", \"transformer\", \"wireless\", \"0.18-&micro;m\", \"focal\", \"spiht\", \"compression\", \"plane\", \"sensor\", \"using\", \"cultivation\", \"henry\", \"grow\", \"garden\", \"estimation\", \"learning\", \"parameter\", \"control\", \"h.264/avc\", \"human\", \"object\", \"sketch\", \"classify\", \"stream\", \"automate\", \"power\", \"gradient\", \"algorithm\", \"detection\", \"program\", \"cleaning\", \"multiprocessor\", \"reconfigurable\", \"programmable\", \"viterbi\", \"model\", \"system\", \"generate\", \"query\", \"orient\", \"robot\", \"language\", \"composition\", \"base\", \"background\", \"raytracing\", \"metaballs\", \"efficient\", \"sketch\", \"object\", \"learning\", \"human\", \"classify\", \"cultivation\", \"henry\", \"garden\", \"grow\", \"estimation\", \"parameter\", \"control\", \"h.264/avc\", \"stream\", \"program\", \"algorithm\", \"automate\", \"detection\", \"gradient\", \"power\", \"wheel\", \"potter\", \"interactive\", \"cleaning\", \"multiprocessor\", \"decoder\", \"viterbi\", \"reconfigurable\", \"programmable\", \"energy\", \"model\", \"drive\", \"system\", \"generate\", \"language\", \"natural\", \"orient\", \"step\", \"robot\", \"simulation\", \"query\", \"network\", \"efficient\", \"metaballs\", \"raytracing\", \"background\", \"base\", \"composition\", \"cosmicai\", \"flexible\", \"estimation\", \"h.264/avc\", \"control\", \"parameter\", \"model\", \"henry\", \"garden\", \"cultivation\", \"grow\", \"learning\", \"sketch\", \"object\", \"human\", \"classify\", \"stream\", \"program\", \"algorithm\", \"automate\", \"detection\", \"power\", \"gradient\", \"wheel\", \"interactive\", \"potter\", \"cleaning\", \"decoder\", \"reconfigurable\", \"programmable\", \"multiprocessor\", \"energy\", \"viterbi\", \"drive\", \"generate\", \"query\", \"robot\", \"orient\", \"natural\", \"language\", \"step\", \"simulation\", \"network\", \"efficient\", \"metaballs\", \"raytracing\", \"background\", \"base\", \"composition\", \"cosmicai\", \"flexible\", \"search\", \"acceleration\", \"application\", \"cacheportal\", \"center\", \"database\", \"host\", \"oscillate\", \"highly\", \"effective\", \"voltage\", \"lamp\", \"fluorescent\", \"electronic\", \"class\", \"ballast\", \"backbone\", \"connect\", \"densely\", \"healing\", \"keeping\", \"preserve\", \"metasearch\", \"scalable\", \"towards\", \"engine\", \"drive\", \"large\", \"scale\", \"network\", \"grow\", \"cultivation\", \"henry\", \"sketch\", \"temperature\", \"detection\", \"power\", \"gradient\", \"stream\", \"program\", \"automate\", \"algorithm\", \"sensor\", \"using\", \"generate\", \"grow\", \"henry\", \"garden\", \"cultivation\", \"estimation\", \"parameter\", \"human\", \"h.264/avc\", \"learning\", \"object\", \"control\", \"sketch\", \"classify\", \"wheel\", \"potter\", \"interactive\", \"cleaning\", \"multiprocessor\", \"energy\", \"programmable\", \"decoder\", \"reconfigurable\", \"viterbi\", \"efficient\", \"drive\", \"orient\", \"query\", \"robot\", \"natural\", \"language\", \"step\", \"simulation\", \"scale\", \"content\", \"base\", \"model\", \"unify\", \"recommendation\", \"click\", \"automatically\", \"bilinear\", \"personalize\", \"predictive\", \"label\", \"background\", \"composition\", \"cosmicai\", \"flexible\", \"search\", \"generate\", \"dynamic\", \"using\", \"grow\", \"henry\", \"cultivation\", \"garden\", \"parameter\", \"estimation\", \"control\", \"sketch\", \"learning\", \"human\", \"classify\", \"object\", \"h.264/avc\", \"drive\", \"step\", \"language\", \"analog\", \"natural\", \"raytracing\", \"metaballs\", \"efficient\", \"orient\"], \"Total\": [2.0, 1.0, 2.0, 1.0, 2.0, 0.0, 0.0, 0.0, 0.0, 2.0, 1.0, 0.0, 0.0, 0.0, 0.0, 0.0, 0.0, 0.0, 0.0, 0.0, 1.0, 1.0, 1.0, 1.0, 0.0, 0.0, 0.0, 0.0, 0.0, 0.0, 0.9854070544242859, 0.9854070544242859, 0.9854070544242859, 0.9854070544242859, 0.9854070544242859, 0.9854071736335754, 0.9854069948196411, 0.9854069948196411, 0.9854070544242859, 0.9854070544242859, 1.502012848854065, 2.3269386291503906, 0.8012256026268005, 0.8012256622314453, 0.8012256622314453, 0.8012257218360901, 0.8374376893043518, 0.8374378085136414, 0.8374378681182861, 0.8374377489089966, 0.8374378681182861, 0.8374378085136414, 0.8374378681182861, 0.8374378681182861, 0.8374378681182861, 0.9854066371917725, 0.9854066371917725, 0.985406756401062, 0.9854066371917725, 0.9854066967964172, 0.985406756401062, 0.985406756401062, 2.736510992050171, 1.168006420135498, 1.8387759923934937, 1.168006420135498, 1.168006420135498, 1.0138500928878784, 1.0138500928878784, 1.168006181716919, 1.013850450515747, 1.013850450515747, 1.013850450515747, 1.013850450515747, 1.013850450515747, 1.013850450515747, 1.013850450515747, 1.0138500928878784, 1.0138500928878784, 1.0138498544692993, 1.0138498544692993, 1.502012848854065, 1.6310961246490479, 1.665189504623413, 2.736510992050171, 0.8012256622314453, 0.8012256622314453, 0.8012257218360901, 0.8012256026268005, 0.8374376893043518, 0.8374378085136414, 0.8374377489089966, 0.8374378681182861, 0.8374378681182861, 0.8374378681182861, 0.8374378681182861, 0.8374378085136414, 0.8374378681182861, 0.9854066371917725, 0.9854066371917725, 0.985406756401062, 0.9854066371917725, 0.9854066967964172, 0.9854069948196411, 0.985406756401062, 0.985406756401062, 0.9854070544242859, 1.7317414283752441, 1.1680066585540771, 1.1680066585540771, 1.1144901514053345, 1.168006420135498, 1.168006420135498, 1.8387759923934937, 1.168006420135498, 1.114490270614624, 1.1144901514053345, 0.8012256622314453, 0.8012256026268005, 0.8012256622314453, 0.8012257218360901, 0.8374376893043518, 0.8374377489089966, 0.8374378681182861, 0.8374378681182861, 0.8374378085136414, 0.8374378681182861, 0.8374378085136414, 0.8374378681182861, 0.8374378681182861, 0.9854066371917725, 0.9854066371917725, 0.9854066371917725, 0.985406756401062, 0.985406756401062, 0.985406756401062, 0.9854066967964172, 0.9854069948196411, 0.9854069948196411, 0.9854070544242859, 0.9854070544242859, 0.9854070544242859, 0.9854070544242859, 0.9854070544242859, 0.9854070544242859, 0.9854070544242859, 0.9854071736335754, 2.071934938430786, 1.502012848854065, 1.665189504623413, 2.736510992050171, 1.168006181716919, 1.168006181716919, 1.819345474243164, 1.168006420135498, 1.168006420135498, 1.168006420135498, 1.8387759923934937, 1.168006420135498, 1.819345474243164, 1.0138500928878784, 1.0138500928878784, 1.1144901514053345, 1.7317414283752441, 1.8387761116027832, 1.8387759923934937, 1.1680066585540771, 1.1680065393447876, 1.1680065393447876, 1.1680065393447876, 1.1680065393447876, 1.1680065393447876, 1.1680065393447876, 1.1680066585540771, 1.1680066585540771, 1.168006181716919, 1.168006181716919, 1.168006181716919, 1.168006181716919, 1.168006181716919, 1.168006181716919, 1.168006181716919, 1.168006181716919, 1.168006420135498, 1.168006420135498, 1.168006420135498, 1.1680059432983398, 1.1680059432983398, 1.168006420135498, 1.1680060625076294, 1.1680060625076294, 2.3269386291503906, 1.8193453550338745, 1.819345474243164, 1.819345474243164, 1.6087734699249268, 1.0530070066452026, 1.0530070066452026, 1.0530070066452026, 1.0530070066452026, 1.0530070066452026, 1.0530070066452026, 1.053006887435913, 1.0530070066452026, 1.0530067682266235, 1.0530067682266235, 1.0530067682266235, 1.0530067682266235, 1.541169285774231, 2.158414840698242, 0.8012256026268005, 0.8012256622314453, 0.8012256622314453, 0.8012257218360901, 0.8374376893043518, 0.8374378085136414, 0.8374377489089966, 0.8374378681182861, 0.8374378085136414, 0.8374378681182861, 0.8374378681182861, 0.8374378681182861, 0.8374378681182861, 0.9854066371917725, 0.9854066371917725, 0.985406756401062, 0.985406756401062, 0.9854066371917725, 0.985406756401062, 0.9854066967964172, 0.9854070544242859, 0.9854070544242859, 0.9854070544242859, 0.9854070544242859, 0.9854071736335754, 2.071934938430786, 2.3269386291503906, 2.736510992050171, 1.8387759923934937, 1.168006420135498, 1.168006420135498, 1.168006420135498, 1.1144901514053345, 1.7317414283752441, 1.1144901514053345, 1.0138500928878784, 1.0138500928878784, 1.502012848854065, 0.8374378681182861, 0.8374378681182861, 0.8374378085136414, 0.8374378681182861, 0.8374378681182861, 0.8012256026268005, 0.8012256622314453, 0.8012257218360901, 0.8012256622314453, 0.8374376893043518, 0.8374377489089966, 0.8374378681182861, 0.8374378085136414, 0.9854066371917725, 0.9854066967964172, 0.9854066371917725, 0.9854066371917725, 0.985406756401062, 0.985406756401062, 0.985406756401062, 0.9854069948196411, 0.9854070544242859, 0.9854069948196411, 0.9854070544242859, 0.9854070544242859, 0.9854070544242859, 0.9854071736335754, 0.9854070544242859, 0.9854070544242859, 0.9854070544242859, 2.071934938430786, 1.665189504623413, 2.3269386291503906, 2.736510992050171, 1.168006420135498, 1.168006420135498, 1.168006420135498, 1.168006181716919, 1.168006420135498, 1.168006181716919, 1.8387759923934937, 1.8193453550338745, 1.502012848854065, 1.0138500928878784, 1.0138500928878784, 1.1144901514053345, 1.7317414283752441, 1.1144901514053345, 1.114490032196045, 1.114490270614624, 0.8374376893043518, 0.8374378085136414, 0.8374378681182861, 0.8374377489089966, 2.071934938430786, 0.8012256622314453, 0.8012257218360901, 0.8012256026268005, 0.8012256622314453, 0.8374378085136414, 0.8374378681182861, 0.8374378681182861, 0.8374378681182861, 0.8374378681182861, 0.9854066371917725, 0.9854066967964172, 0.9854066371917725, 0.9854066371917725, 0.985406756401062, 0.985406756401062, 0.985406756401062, 0.9854069948196411, 0.9854069948196411, 0.9854070544242859, 0.9854070544242859, 0.9854070544242859, 0.9854070544242859, 0.9854070544242859, 0.9854070544242859, 0.9854070544242859, 0.9854071736335754, 1.665189504623413, 2.736510992050171, 1.8387759923934937, 1.168006420135498, 1.168006420135498, 1.168006420135498, 1.168006420135498, 1.168006181716919, 1.168006181716919, 1.8193453550338745, 1.502012848854065, 1.0138500928878784, 1.0138500928878784, 1.1144901514053345, 1.7317414283752441, 1.1144901514053345, 1.114490032196045, 1.114490270614624, 1.1144901514053345, 1.1485835313796997, 1.1485835313796997, 1.1485835313796997, 1.1485835313796997, 1.1485835313796997, 1.1485835313796997, 1.1485834121704102, 1.1485834121704102, 1.1485834121704102, 1.1485834121704102, 1.1485834121704102, 1.1485834121704102, 1.1485834121704102, 1.1485834121704102, 1.1485834121704102, 1.1485834121704102, 1.1485834121704102, 1.1485834121704102, 1.1485834121704102, 1.1485834121704102, 1.1485834121704102, 1.148583173751831, 1.1485832929611206, 1.1485834121704102, 1.1485834121704102, 1.665189504623413, 1.819345474243164, 1.819345474243164, 1.8193453550338745, 0.8012256622314453, 0.8012256026268005, 0.8012256622314453, 0.8374378681182861, 1.4735723733901978, 0.985406756401062, 0.985406756401062, 0.985406756401062, 0.9854066371917725, 0.9854066967964172, 0.9854066371917725, 0.9854066371917725, 1.541169285774231, 2.158414840698242, 2.736510992050171, 0.8012256622314453, 0.8012256622314453, 0.8012257218360901, 0.8012256026268005, 0.8374376893043518, 0.8374377489089966, 0.8374378681182861, 0.8374378085136414, 0.8374378085136414, 0.8374378681182861, 0.8374378681182861, 0.8374378681182861, 0.8374378681182861, 0.9854069948196411, 0.9854070544242859, 0.9854069948196411, 0.9854070544242859, 0.9854070544242859, 0.9854070544242859, 0.9854070544242859, 0.9854070544242859, 0.9854070544242859, 0.9854071736335754, 1.502012848854065, 1.665189504623413, 1.168006420135498, 1.8387759923934937, 1.168006420135498, 1.168006420135498, 1.168006420135498, 1.168006181716919, 1.168006181716919, 1.819345474243164, 1.7317414283752441, 1.7317414283752441, 2.071934938430786, 1.114490032196045, 1.1144901514053345, 1.114490032196045, 1.114490032196045, 1.114490032196045, 1.1144901514053345, 1.1144901514053345, 1.114490032196045, 1.1144901514053345, 1.1144901514053345, 1.114490032196045, 1.114490270614624, 1.1144901514053345, 2.736510992050171, 1.6310961246490479, 2.158414840698242, 0.8012256622314453, 0.8012256622314453, 0.8012256026268005, 0.8012257218360901, 0.8374377489089966, 0.8374376893043518, 0.8374378681182861, 0.8374378681182861, 0.8374378085136414, 0.8374378681182861, 0.8374378681182861, 0.8374378681182861, 0.8374378085136414, 1.665189504623413, 1.168006181716919, 1.168006420135498, 1.1680066585540771, 1.168006420135498, 1.0138500928878784, 1.0138500928878784, 1.502012848854065, 1.168006420135498], \"loglift\": [30.0, 29.0, 28.0, 27.0, 26.0, 25.0, 24.0, 23.0, 22.0, 21.0, 20.0, 19.0, 18.0, 17.0, 16.0, 15.0, 14.0, 13.0, 12.0, 11.0, 10.0, 9.0, 8.0, 7.0, 6.0, 5.0, 4.0, 3.0, 2.0, 1.0, 1.9226000308990479, 1.9226000308990479, 1.9226000308990479, 1.9226000308990479, 1.9226000308990479, 1.9226000308990479, 1.9226000308990479, 1.9226000308990479, 1.9226000308990479, 1.9226000308990479, 1.501099944114685, 1.0634000301361084, -0.26829999685287476, -0.26829999685287476, -0.26829999685287476, -0.26829999685287476, -0.3125999867916107, -0.3125999867916107, -0.3125999867916107, -0.3125999867916107, -0.3125999867916107, -0.3125999867916107, -0.3125999867916107, -0.3125999867916107, -0.3125999867916107, -0.47530001401901245, -0.47530001401901245, -0.47530001401901245, -0.47530001401901245, -0.47530001401901245, -0.47530001401901245, -0.47530001401901245, -1.4966000318527222, -0.6452999711036682, -1.0990999937057495, -0.6452999711036682, -0.6452999711036682, -0.5037000179290771, -0.5037000179290771, -0.6452999711036682, 1.782099962234497, 1.782099962234497, 1.782099962234497, 1.782099962234497, 1.782099962234497, 1.782099962234497, 1.782099962234497, 1.782099962234497, 1.782099962234497, 1.782099962234497, 1.782099962234497, 1.3890999555587769, 1.3065999746322632, 1.2858999967575073, 0.7892000079154968, -0.38040000200271606, -0.38040000200271606, -0.38040000200271606, -0.38040000200271606, -0.4246000051498413, -0.4246000051498413, -0.4246000051498413, -0.4246000051498413, -0.4246000051498413, -0.4246000051498413, -0.4246000051498413, -0.4246000051498413, -0.4246000051498413, -0.5873000025749207, -0.5873000025749207, -0.5873000025749207, -0.5873000025749207, -0.5873000025749207, -0.5873000025749207, -0.5873000025749207, -0.5873000025749207, -0.5873000025749207, -1.1511000394821167, -0.7573000192642212, -0.7573000192642212, -0.7103999853134155, -0.7573000192642212, -0.7573000192642212, -1.2110999822616577, -0.7573000192642212, -0.7103999853134155, -0.7103999853134155, 2.5095999240875244, 2.5095999240875244, 2.5095999240875244, 2.5095999240875244, 0.06750000268220901, 0.06750000268220901, 0.06750000268220901, 0.06750000268220901, 0.06750000268220901, 0.06750000268220901, 0.06750000268220901, 0.06750000268220901, 0.06750000268220901, -0.09520000219345093, -0.09520000219345093, -0.09520000219345093, -0.09520000219345093, -0.09520000219345093, -0.09520000219345093, -0.09520000219345093, -0.09520000219345093, -0.09520000219345093, -0.09520000219345093, -0.09520000219345093, -0.09520000219345093, -0.09520000219345093, -0.09520000219345093, -0.09520000219345093, -0.09520000219345093, -0.09520000219345093, -0.8382999897003174, -0.516700029373169, -0.6197999715805054, -1.1165000200271606, -0.2651999890804291, -0.2651999890804291, -0.708299994468689, -0.2651999890804291, -0.2651999890804291, -0.2651999890804291, -0.718999981880188, -0.2651999890804291, -0.708299994468689, -0.12359999865293503, -0.12359999865293503, -0.218299999833107, -0.6589999794960022, 1.3198000192642212, 1.3198000192642212, 1.1268999576568604, 1.1268999576568604, 1.1268999576568604, 1.1268999576568604, 1.1268999576568604, 1.1268999576568604, 1.1268999576568604, 1.1268999576568604, 1.1268999576568604, 1.1268999576568604, 1.1268999576568604, 1.1268999576568604, 1.1268999576568604, 1.1268999576568604, 1.1268999576568604, 1.1268999576568604, 1.1268999576568604, 1.1268999576568604, 1.1268999576568604, 1.1268999576568604, 1.1268999576568604, 1.1268999576568604, 1.1268999576568604, 1.1268999576568604, 1.1268999576568604, 1.0843000411987305, 0.6837000250816345, 0.6837000250816345, 0.6837000250816345, 1.9322999715805054, 1.7094999551773071, 1.7094999551773071, 1.7094999551773071, 1.7094999551773071, 1.7094999551773071, 1.7094999551773071, 1.7094999551773071, 1.7094999551773071, 1.7094999551773071, 1.7094999551773071, 1.7094999551773071, 1.7094999551773071, 1.3286000490188599, 0.9918000102043152, -0.41510000824928284, -0.41510000824928284, -0.41510000824928284, -0.41510000824928284, -0.4593000113964081, -0.4593000113964081, -0.4593000113964081, -0.4593000113964081, -0.4593000113964081, -0.4593000113964081, -0.4593000113964081, -0.4593000113964081, -0.4593000113964081, -0.621999979019165, -0.621999979019165, -0.621999979019165, -0.621999979019165, -0.621999979019165, -0.621999979019165, -0.621999979019165, -0.621999979019165, -0.621999979019165, -0.621999979019165, -0.621999979019165, -0.621999979019165, -1.3652000427246094, -1.4812999963760376, -1.643399953842163, -1.2458000183105469, -0.7919999957084656, -0.7919999957084656, -0.7919999957084656, -0.7451000213623047, -1.1858999729156494, -0.7451000213623047, -0.6504999995231628, -0.6504999995231628, -1.0435999631881714, 2.4091999530792236, 2.4091999530792236, 2.4091999530792236, 2.4091999530792236, 2.4091999530792236, 0.05559999868273735, 0.05559999868273735, 0.05559999868273735, 0.05559999868273735, 0.011300000362098217, 0.011300000362098217, 0.011300000362098217, 0.011300000362098217, -0.15139999985694885, -0.15139999985694885, -0.15139999985694885, -0.15139999985694885, -0.15139999985694885, -0.15139999985694885, -0.15139999985694885, -0.15139999985694885, -0.15139999985694885, -0.15139999985694885, -0.15139999985694885, -0.15139999985694885, -0.15139999985694885, -0.15139999985694885, -0.15139999985694885, -0.15139999985694885, -0.15139999985694885, -0.8945000171661377, -0.6759999990463257, -1.010599970817566, -1.172700047492981, -0.321399986743927, -0.321399986743927, -0.321399986743927, -0.321399986743927, -0.321399986743927, -0.321399986743927, -0.7752000093460083, -0.7645000219345093, -0.5728999972343445, -0.17980000376701355, -0.17980000376701355, -0.2745000123977661, -0.7152000069618225, -0.2745000123977661, -0.2745000123977661, -0.2745000123977661, 2.4091999530792236, 2.4091999530792236, 2.4091999530792236, 2.4091999530792236, 1.5032999515533447, 0.05559999868273735, 0.05559999868273735, 0.05559999868273735, 0.05559999868273735, 0.011300000362098217, 0.011300000362098217, 0.011300000362098217, 0.011300000362098217, 0.011300000362098217, -0.15139999985694885, -0.15139999985694885, -0.15139999985694885, -0.15139999985694885, -0.15139999985694885, -0.15139999985694885, -0.15139999985694885, -0.15139999985694885, -0.15139999985694885, -0.15139999985694885, -0.15139999985694885, -0.15139999985694885, -0.15139999985694885, -0.15139999985694885, -0.15139999985694885, -0.15139999985694885, -0.15139999985694885, -0.6759999990463257, -1.172700047492981, -0.7752000093460083, -0.321399986743927, -0.321399986743927, -0.321399986743927, -0.321399986743927, -0.321399986743927, -0.321399986743927, -0.7645000219345093, -0.5728999972343445, -0.17980000376701355, -0.17980000376701355, -0.2745000123977661, -0.7152000069618225, -0.2745000123977661, -0.2745000123977661, -0.2745000123977661, -0.2745000123977661, 1.2553999423980713, 1.2553999423980713, 1.2553999423980713, 1.2553999423980713, 1.2553999423980713, 1.2553999423980713, 1.2553999423980713, 1.2553999423980713, 1.2553999423980713, 1.2553999423980713, 1.2553999423980713, 1.2553999423980713, 1.2553999423980713, 1.2553999423980713, 1.2553999423980713, 1.2553999423980713, 1.2553999423980713, 1.2553999423980713, 1.2553999423980713, 1.2553999423980713, 1.2553999423980713, 1.2553999423980713, 1.2553999423980713, 1.2553999423980713, 1.2553999423980713, 0.8840000033378601, 0.7954999804496765, 0.7954999804496765, 0.7954999804496765, -0.7822999954223633, -0.7822999954223633, -0.7822999954223633, -0.8264999985694885, 2.1668999195098877, 1.9226000308990479, 1.9226000308990479, 1.9226000308990479, 1.9226000308990479, 1.9226000308990479, 1.9226000308990479, 1.9226000308990479, 1.4753999710083008, 1.1385999917984009, 0.901199996471405, -0.26829999685287476, -0.26829999685287476, -0.26829999685287476, -0.26829999685287476, -0.3125999867916107, -0.3125999867916107, -0.3125999867916107, -0.3125999867916107, -0.3125999867916107, -0.3125999867916107, -0.3125999867916107, -0.3125999867916107, -0.3125999867916107, -0.47530001401901245, -0.47530001401901245, -0.47530001401901245, -0.47530001401901245, -0.47530001401901245, -0.47530001401901245, -0.47530001401901245, -0.47530001401901245, -0.47530001401901245, -0.47530001401901245, -0.8967999815940857, -0.9998999834060669, -0.6452999711036682, -1.0990999937057495, -0.6452999711036682, -0.6452999711036682, -0.6452999711036682, -0.6452999711036682, -0.6452999711036682, -1.0884000062942505, 1.6444000005722046, 1.6444000005722046, 1.4651000499725342, 1.4385000467300415, 1.4385000467300415, 1.4385000467300415, 1.4385000467300415, 1.4385000467300415, 1.4385000467300415, 1.4385000467300415, 1.4385000467300415, 1.4385000467300415, 1.4385000467300415, 1.4385000467300415, 1.4385000467300415, 1.4385000467300415, 1.186900019645691, 1.0577000379562378, 0.7774999737739563, -0.6294000148773193, -0.6294000148773193, -0.6294000148773193, -0.6294000148773193, -0.6736000180244446, -0.6736000180244446, -0.6736000180244446, -0.6736000180244446, -0.6736000180244446, -0.6736000180244446, -0.6736000180244446, -0.6736000180244446, -0.6736000180244446, -1.3609000444412231, -1.0062999725341797, -1.0062999725341797, -1.0062999725341797, -1.0062999725341797, -0.8647000193595886, -0.8647000193595886, -1.2577999830245972, -1.0062999725341797], \"logprob\": [30.0, 29.0, 28.0, 27.0, 26.0, 25.0, 24.0, 23.0, 22.0, 21.0, 20.0, 19.0, 18.0, 17.0, 16.0, 15.0, 14.0, 13.0, 12.0, 11.0, 10.0, 9.0, 8.0, 7.0, 6.0, 5.0, 4.0, 3.0, 2.0, 1.0, -3.135499954223633, -3.135499954223633, -3.135499954223633, -3.135499954223633, -3.135499954223633, -3.135499954223633, -3.135499954223633, -3.135499954223633, -3.135499954223633, -3.135499954223633, -3.135499954223633, -3.135499954223633, -5.533400058746338, -5.533400058746338, -5.533400058746338, -5.533400058746338, -5.533400058746338, -5.533400058746338, -5.533400058746338, -5.533400058746338, -5.533400058746338, -5.533400058746338, -5.533400058746338, -5.533400058746338, -5.533400058746338, -5.533400058746338, -5.533400058746338, -5.533400058746338, -5.533400058746338, -5.533400058746338, -5.533400058746338, -5.533400058746338, -5.533400058746338, -5.533400058746338, -5.533400058746338, -5.533400058746338, -5.533400058746338, -5.533400058746338, -5.533400058746338, -5.533400058746338, -3.2476000785827637, -3.2476000785827637, -3.2476000785827637, -3.2476000785827637, -3.2476000785827637, -3.2476000785827637, -3.2476000785827637, -3.2476000785827637, -3.2476000785827637, -3.2476000785827637, -3.2476000785827637, -3.2476000785827637, -3.2476000785827637, -3.2476000785827637, -3.2476000785827637, -5.645400047302246, -5.645400047302246, -5.645400047302246, -5.645400047302246, -5.645400047302246, -5.645400047302246, -5.645400047302246, -5.645400047302246, -5.645400047302246, -5.645400047302246, -5.645400047302246, -5.645400047302246, -5.645400047302246, -5.645400047302246, -5.645400047302246, -5.645400047302246, -5.645400047302246, -5.645400047302246, -5.645400047302246, -5.645400047302246, -5.645400047302246, -5.645400047302246, -5.645400047302246, -5.645400047302246, -5.645400047302246, -5.645400047302246, -5.645400047302246, -5.645400047302246, -5.645400047302246, -5.645400047302246, -5.645400047302246, -5.645400047302246, -2.7553999423980713, -2.7553999423980713, -2.7553999423980713, -2.7553999423980713, -5.153299808502197, -5.153299808502197, -5.153299808502197, -5.153299808502197, -5.153299808502197, -5.153299808502197, -5.153299808502197, -5.153299808502197, -5.153299808502197, -5.153299808502197, -5.153299808502197, -5.153299808502197, -5.153299808502197, -5.153299808502197, -5.153299808502197, -5.153299808502197, -5.153299808502197, -5.153299808502197, -5.153299808502197, -5.153299808502197, -5.153299808502197, -5.153299808502197, -5.153299808502197, -5.153299808502197, -5.153299808502197, -5.153299808502197, -5.153299808502197, -5.153299808502197, -5.153299808502197, -5.153299808502197, -5.153299808502197, -5.153299808502197, -5.153299808502197, -5.153299808502197, -5.153299808502197, -5.153299808502197, -5.153299808502197, -5.153299808502197, -5.153299808502197, -5.153299808502197, -5.153299808502197, -5.153299808502197, -5.153299808502197, -3.1145999431610107, -3.1145999431610107, -3.761199951171875, -3.761199951171875, -3.761199951171875, -3.761199951171875, -3.761199951171875, -3.761199951171875, -3.761199951171875, -3.761199951171875, -3.761199951171875, -3.761199951171875, -3.761199951171875, -3.761199951171875, -3.761199951171875, -3.761199951171875, -3.761199951171875, -3.761199951171875, -3.761199951171875, -3.761199951171875, -3.761199951171875, -3.761199951171875, -3.761199951171875, -3.761199951171875, -3.761199951171875, -3.761199951171875, -3.761199951171875, -3.1145999431610107, -3.761199951171875, -3.761199951171875, -3.761199951171875, -2.6356000900268555, -3.2822999954223633, -3.2822999954223633, -3.2822999954223633, -3.2822999954223633, -3.2822999954223633, -3.2822999954223633, -3.2822999954223633, -3.2822999954223633, -3.2822999954223633, -3.2822999954223633, -3.2822999954223633, -3.2822999954223633, -3.2822999954223633, -3.2822999954223633, -5.680200099945068, -5.680200099945068, -5.680200099945068, -5.680200099945068, -5.680200099945068, -5.680200099945068, -5.680200099945068, -5.680200099945068, -5.680200099945068, -5.680200099945068, -5.680200099945068, -5.680200099945068, -5.680200099945068, -5.680200099945068, -5.680200099945068, -5.680200099945068, -5.680200099945068, -5.680200099945068, -5.680200099945068, -5.680200099945068, -5.680200099945068, -5.680200099945068, -5.680200099945068, -5.680200099945068, -5.680200099945068, -5.680200099945068, -5.680200099945068, -5.680200099945068, -5.680200099945068, -5.680200099945068, -5.680200099945068, -5.680200099945068, -5.680200099945068, -5.680200099945068, -5.680200099945068, -5.680200099945068, -5.680200099945068, -5.680200099945068, -2.8115999698638916, -2.8115999698638916, -2.8115999698638916, -2.8115999698638916, -2.8115999698638916, -5.209499835968018, -5.209499835968018, -5.209499835968018, -5.209499835968018, -5.209499835968018, -5.209499835968018, -5.209499835968018, -5.209499835968018, -5.209499835968018, -5.209499835968018, -5.209499835968018, -5.209499835968018, -5.209499835968018, -5.209499835968018, -5.209499835968018, -5.209499835968018, -5.209499835968018, -5.209499835968018, -5.209499835968018, -5.209499835968018, -5.209499835968018, -5.209499835968018, -5.209499835968018, -5.209499835968018, -5.209499835968018, -5.209499835968018, -5.209499835968018, -5.209499835968018, -5.209499835968018, -5.209499835968018, -5.209499835968018, -5.209499835968018, -5.209499835968018, -5.209499835968018, -5.209499835968018, -5.209499835968018, -5.209499835968018, -5.209499835968018, -5.209499835968018, -5.209499835968018, -5.209499835968018, -5.209499835968018, -5.209499835968018, -5.209499835968018, -5.209499835968018, -2.8115999698638916, -2.8115999698638916, -2.8115999698638916, -2.8115999698638916, -2.8115999698638916, -5.209499835968018, -5.209499835968018, -5.209499835968018, -5.209499835968018, -5.209499835968018, -5.209499835968018, -5.209499835968018, -5.209499835968018, -5.209499835968018, -5.209499835968018, -5.209499835968018, -5.209499835968018, -5.209499835968018, -5.209499835968018, -5.209499835968018, -5.209499835968018, -5.209499835968018, -5.209499835968018, -5.209499835968018, -5.209499835968018, -5.209499835968018, -5.209499835968018, -5.209499835968018, -5.209499835968018, -5.209499835968018, -5.209499835968018, -5.209499835968018, -5.209499835968018, -5.209499835968018, -5.209499835968018, -5.209499835968018, -5.209499835968018, -5.209499835968018, -5.209499835968018, -5.209499835968018, -5.209499835968018, -5.209499835968018, -5.209499835968018, -5.209499835968018, -5.209499835968018, -5.209499835968018, -5.209499835968018, -5.209499835968018, -5.209499835968018, -5.209499835968018, -3.6494998931884766, -3.6494998931884766, -3.6494998931884766, -3.6494998931884766, -3.6494998931884766, -3.6494998931884766, -3.6494998931884766, -3.6494998931884766, -3.6494998931884766, -3.6494998931884766, -3.6494998931884766, -3.6494998931884766, -3.6494998931884766, -3.6494998931884766, -3.6494998931884766, -3.6494998931884766, -3.6494998931884766, -3.6494998931884766, -3.6494998931884766, -3.6494998931884766, -3.6494998931884766, -3.6494998931884766, -3.6494998931884766, -3.6494998931884766, -3.6494998931884766, -3.6494998931884766, -3.6494998931884766, -3.6494998931884766, -3.6494998931884766, -6.047399997711182, -6.047399997711182, -6.047399997711182, -6.047399997711182, -2.4888999462127686, -3.135499954223633, -3.135499954223633, -3.135499954223633, -3.135499954223633, -3.135499954223633, -3.135499954223633, -3.135499954223633, -3.135499954223633, -3.135499954223633, -3.135499954223633, -5.533400058746338, -5.533400058746338, -5.533400058746338, -5.533400058746338, -5.533400058746338, -5.533400058746338, -5.533400058746338, -5.533400058746338, -5.533400058746338, -5.533400058746338, -5.533400058746338, -5.533400058746338, -5.533400058746338, -5.533400058746338, -5.533400058746338, -5.533400058746338, -5.533400058746338, -5.533400058746338, -5.533400058746338, -5.533400058746338, -5.533400058746338, -5.533400058746338, -5.533400058746338, -5.533400058746338, -5.533400058746338, -5.533400058746338, -5.533400058746338, -5.533400058746338, -5.533400058746338, -5.533400058746338, -5.533400058746338, -5.533400058746338, -5.533400058746338, -2.849900007247925, -2.849900007247925, -2.849900007247925, -3.496500015258789, -3.496500015258789, -3.496500015258789, -3.496500015258789, -3.496500015258789, -3.496500015258789, -3.496500015258789, -3.496500015258789, -3.496500015258789, -3.496500015258789, -3.496500015258789, -3.496500015258789, -3.496500015258789, -2.849900007247925, -3.496500015258789, -3.496500015258789, -5.894400119781494, -5.894400119781494, -5.894400119781494, -5.894400119781494, -5.894400119781494, -5.894400119781494, -5.894400119781494, -5.894400119781494, -5.894400119781494, -5.894400119781494, -5.894400119781494, -5.894400119781494, -5.894400119781494, -5.894400119781494, -5.894400119781494, -5.894400119781494, -5.894400119781494, -5.894400119781494, -5.894400119781494, -5.894400119781494, -5.894400119781494, -5.894400119781494]}, \"token.table\": {\"Topic\": [5, 5, 8, 5, 9, 4, 8, 4, 9, 10, 4, 8, 10, 8, 5, 10, 10, 8, 8, 8, 1, 10, 2, 10, 5, 8, 4, 10, 10, 8, 1, 8, 4, 9, 2, 2, 8, 2, 10, 8, 1, 2, 8, 1, 8, 4, 2, 5, 5, 10, 8, 5, 4, 2, 9, 10, 9, 4, 8, 8, 8, 4, 5, 2, 4, 2, 1, 8, 10, 8, 4, 4, 8, 4, 4, 2, 2, 2, 8, 4, 10, 1, 4, 4, 8, 4, 8, 10, 4, 5, 1, 9, 10, 8, 4, 9, 1, 4, 2, 10, 1, 4, 8, 4, 8, 10, 2, 5, 9, 4, 4, 2, 4, 5, 4, 9, 4, 4, 1, 4, 9, 4, 8, 5, 10, 5, 9, 10, 1, 8, 1, 5], \"Freq\": [0.9496613144874573, 0.9496613144874573, 0.8706375956535339, 0.9496613144874573, 1.014809489250183, 0.856159508228302, 0.8706375956535339, 0.8561598658561707, 1.014809489250183, 0.8972713947296143, 0.856159508228302, 0.8706376552581787, 0.8972712755203247, 0.8706376552581787, 0.9496613144874573, 0.5774534344673157, 0.8972713947296143, 0.8706375956535339, 0.8706375956535339, 0.8706376552581787, 1.014809012413025, 0.8972713947296143, 0.9863393306732178, 0.8972712755203247, 0.9496614933013916, 0.8706376552581787, 0.8561595678329468, 0.5774534344673157, 0.8972713947296143, 0.8706375956535339, 1.014809012413025, 0.8706376552581787, 0.5438399910926819, 1.0148093700408936, 0.98633873462677, 0.6005322337150574, 0.6005322337150574, 0.6130846738815308, 0.6130846738815308, 0.8706376552581787, 0.6657732725143433, 0.6657732725143433, 0.8706376552581787, 1.014809012413025, 0.8706376552581787, 0.8561598658561707, 0.98633873462677, 0.9496613144874573, 0.9496613144874573, 0.8972711563110352, 0.8706376552581787, 0.9496614933013916, 0.8561599254608154, 0.3654288351535797, 0.3654288351535797, 0.3654288351535797, 1.0148093700408936, 0.8561595678329468, 0.8706376552581787, 0.8706376552581787, 0.8706375956535339, 0.8561598658561707, 0.6215915679931641, 0.98633873462677, 0.856160044670105, 0.98633873462677, 1.0148091316223145, 0.8706376552581787, 0.8972713947296143, 0.8706376552581787, 0.8561596870422363, 0.5496482253074646, 0.5496482253074646, 0.856159508228302, 0.8561599254608154, 0.9863393306732178, 0.98633873462677, 0.9863390922546387, 0.870637834072113, 0.8561598658561707, 0.4826406240463257, 1.014809012413025, 0.8561596870422363, 0.5496482849121094, 0.5496482849121094, 0.8561596870422363, 0.8706376552581787, 0.8972712755203247, 0.8561595678329468, 0.9496614933013916, 1.014809012413025, 1.0148093700408936, 0.8972712755203247, 0.8706376552581787, 0.856160044670105, 1.0148093700408936, 1.014809012413025, 0.5438400506973267, 0.9863390922546387, 0.8972712755203247, 1.014809012413025, 0.8561596870422363, 0.8706377744674683, 0.5496482253074646, 0.5496482253074646, 0.8972712755203247, 0.98633873462677, 0.6488580107688904, 0.6488580107688904, 0.8561595678329468, 0.8561598658561707, 0.98633873462677, 0.8561598658561707, 0.9496614933013916, 0.8561598658561707, 1.014809489250183, 0.8561595678329468, 0.8561595678329468, 0.42974919080734253, 0.42974919080734253, 0.6786229014396667, 0.8561598658561707, 0.8706376552581787, 0.9496613144874573, 0.8972713947296143, 0.46330296993255615, 0.46330296993255615, 0.46330296993255615, 1.0148088932037354, 0.8706376552581787, 1.0148091316223145, 0.9496614336967468], \"Term\": [\"0.18-&micro;m\", \"802.11a\", \"acceleration\", \"active\", \"algorithm\", \"analog\", \"application\", \"approach\", \"automate\", \"automatically\", \"aware\", \"backbone\", \"background\", \"ballast\", \"bandpass\", \"base\", \"bilinear\", \"cacheportal\", \"center\", \"class\", \"cleaning\", \"click\", \"color\", \"composition\", \"compression\", \"connect\", \"constraint\", \"content\", \"cosmicai\", \"database\", \"decoder\", \"densely\", \"design\", \"detection\", \"discovery\", \"drive\", \"drive\", \"dynamic\", \"dynamic\", \"effective\", \"efficient\", \"efficient\", \"electronic\", \"energy\", \"engine\", \"engineering\", \"experience\", \"feedback\", \"filter\", \"flexible\", \"fluorescent\", \"focal\", \"generalize\", \"generate\", \"generate\", \"generate\", \"gradient\", \"handling\", \"healing\", \"highly\", \"host\", \"hybrid\", \"image\", \"improve\", \"information\", \"input\", \"interactive\", \"keeping\", \"label\", \"lamp\", \"language\", \"large\", \"large\", \"layout\", \"management\", \"manifold\", \"medium\", \"metaballs\", \"metasearch\", \"methodology\", \"model\", \"multiprocessor\", \"natural\", \"network\", \"network\", \"orient\", \"oscillate\", \"personalize\", \"placement\", \"plane\", \"potter\", \"power\", \"predictive\", \"preserve\", \"processing\", \"program\", \"programmable\", \"query\", \"raytracing\", \"recommendation\", \"reconfigurable\", \"robot\", \"scalable\", \"scale\", \"scale\", \"search\", \"sensing\", \"sensor\", \"sensor\", \"sharing\", \"simulation\", \"socialsensor\", \"software\", \"spiht\", \"step\", \"stream\", \"substrate\", \"symmetry\", \"system\", \"system\", \"temperature\", \"toward\", \"towards\", \"transformer\", \"unify\", \"using\", \"using\", \"using\", \"viterbi\", \"voltage\", \"wheel\", \"wireless\"]}, \"R\": 30, \"lambda.step\": 0.01, \"plot.opts\": {\"xlab\": \"PC1\", \"ylab\": \"PC2\"}, \"topic.order\": [1, 2, 3, 4, 5, 6, 7, 8, 9, 10]};\n",
       "\n",
       "function LDAvis_load_lib(url, callback){\n",
       "  var s = document.createElement('script');\n",
       "  s.src = url;\n",
       "  s.async = true;\n",
       "  s.onreadystatechange = s.onload = callback;\n",
       "  s.onerror = function(){console.warn(\"failed to load library \" + url);};\n",
       "  document.getElementsByTagName(\"head\")[0].appendChild(s);\n",
       "}\n",
       "\n",
       "if(typeof(LDAvis) !== \"undefined\"){\n",
       "   // already loaded: just create the visualization\n",
       "   !function(LDAvis){\n",
       "       new LDAvis(\"#\" + \"ldavis_el1702022152058289122393531289\", ldavis_el1702022152058289122393531289_data);\n",
       "   }(LDAvis);\n",
       "}else if(typeof define === \"function\" && define.amd){\n",
       "   // require.js is available: use it to load d3/LDAvis\n",
       "   require.config({paths: {d3: \"https://cdnjs.cloudflare.com/ajax/libs/d3/3.5.5/d3.min\"}});\n",
       "   require([\"d3\"], function(d3){\n",
       "      window.d3 = d3;\n",
       "      LDAvis_load_lib(\"https://cdn.rawgit.com/bmabey/pyLDAvis/files/ldavis.v1.0.0.js\", function(){\n",
       "        new LDAvis(\"#\" + \"ldavis_el1702022152058289122393531289\", ldavis_el1702022152058289122393531289_data);\n",
       "      });\n",
       "    });\n",
       "}else{\n",
       "    // require.js not available: dynamically load d3 & LDAvis\n",
       "    LDAvis_load_lib(\"https://cdnjs.cloudflare.com/ajax/libs/d3/3.5.5/d3.min.js\", function(){\n",
       "         LDAvis_load_lib(\"https://cdn.rawgit.com/bmabey/pyLDAvis/files/ldavis.v1.0.0.js\", function(){\n",
       "                 new LDAvis(\"#\" + \"ldavis_el1702022152058289122393531289\", ldavis_el1702022152058289122393531289_data);\n",
       "            })\n",
       "         });\n",
       "}\n",
       "</script>"
      ],
      "text/plain": [
       "<IPython.core.display.HTML object>"
      ]
     },
     "execution_count": 19,
     "metadata": {},
     "output_type": "execute_result"
    }
   ],
   "source": [
    "lda10 = gensim.models.ldamodel.LdaModel.load('model10.gensim')\n",
    "lda_display10 = pyLDAvis.gensim.prepare(lda10, corpus, dictionary, sort_topics=False)\n",
    "pyLDAvis.save_html(lda_display10, 'lda10.html')\n",
    "pyLDAvis.display(lda_display10)"
   ]
  }
 ],
 "metadata": {
  "kernelspec": {
   "display_name": "Python 3",
   "language": "python",
   "name": "python3"
  },
  "language_info": {
   "codemirror_mode": {
    "name": "ipython",
    "version": 3
   },
   "file_extension": ".py",
   "mimetype": "text/x-python",
   "name": "python",
   "nbconvert_exporter": "python",
   "pygments_lexer": "ipython3",
   "version": "3.7.2"
  }
 },
 "nbformat": 4,
 "nbformat_minor": 2
}
